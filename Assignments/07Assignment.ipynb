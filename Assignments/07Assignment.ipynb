{
 "cells": [
  {
   "attachments": {},
   "cell_type": "markdown",
   "metadata": {},
   "source": [
    "1. Given two strings s and t, *determine if they are isomorphic*. Two strings s and t are isomorphic if the characters in s can be replaced to get t.\n",
    "All occurrences of a character must be replaced with another character while preserving the order of characters. No two characters may map to the same character, but a character may map to itself.\n",
    "\n",
    "**Example 1:**\n",
    "\n",
    "**Input:** s = \"egg\", t = \"add\"\n",
    "\n",
    "**Output:** true\n",
    "\n",
    "**Explanation: why using zip ?**\n",
    "=> zip function would pair the first item of first iterator (i.e s here) to the first item of second iterator (i.e t here). set() would remove duplicate items from the zipped tuple. It is like the first item of first iterator mapped to the first item of second iterator as it would in case of a hashtable or dictionary.\n",
    "\n",
    "- when strings ae isomorphic:\n",
    "s = \"egg\"\n",
    "t = \"add\"\n",
    "\n",
    "zipped_set = {('e', 'a'), ('g', 'd')}\n",
    "-now comparing their lengths when duplicacies are removed\n",
    "return len(zipped_set) == len(set(s)) == len(set(d))\n",
    "-return 2 == 2 == 2 -> True\n",
    "\n",
    "- when strings are not isomorphic:\n",
    "s = \"egk\"\n",
    "t = \"add\"\n",
    "\n",
    "zipped_set = {('e', 'a'), ('g', 'd'), ('k', 'd')}\n",
    "- now comparing their lengths when duplicacies are removed\n",
    "return len(zipped_set) == len(set(s)) == len(set(d))\n",
    "= return 3 == 3 == 2 -> False"
   ]
  },
  {
   "cell_type": "code",
   "execution_count": 2,
   "metadata": {},
   "outputs": [
    {
     "data": {
      "text/plain": [
       "True"
      ]
     },
     "execution_count": 2,
     "metadata": {},
     "output_type": "execute_result"
    }
   ],
   "source": [
    "def isomorphic_str(s,t):\n",
    "    zipped_set = set(zip(s, t))\n",
    "    return len(zipped_set) == len(set(s)) == len(set(t))\n",
    "\n",
    "\n",
    "# Drivercode\n",
    "\n",
    "s = \"egg\"\n",
    "t = \"add\"\n",
    "isomorphic_str(s,t)"
   ]
  },
  {
   "attachments": {},
   "cell_type": "markdown",
   "metadata": {},
   "source": [
    "2. Given a string num which represents an integer, return true *if* num *is a **strobogrammatic number***.\n",
    "\n",
    "A **strobogrammatic number** is a number that looks the same when rotated 180 degrees (looked at upside down).\n",
    "\n",
    "**Example 1:**\n",
    "\n",
    "**Input:** num = \"69\"\n",
    "\n",
    "**Output:**\n",
    "\n",
    "true\n"
   ]
  },
  {
   "cell_type": "code",
   "execution_count": 4,
   "metadata": {},
   "outputs": [
    {
     "data": {
      "text/plain": [
       "True"
      ]
     },
     "execution_count": 4,
     "metadata": {},
     "output_type": "execute_result"
    }
   ],
   "source": [
    "def isStrobogrammatic(num):\n",
    "    maps = {(\"0\", \"0\"), (\"1\", \"1\"), (\"6\", \"9\"), (\"8\", \"8\"), (\"9\", \"6\")}\n",
    "    i,j = 0, len(num) - 1\n",
    "    while i <= j:\n",
    "        if (num[i], num[j]) not in maps:\n",
    "            return False\n",
    "        i += 1\n",
    "        j -= 1\n",
    "    return True    \n",
    "\n",
    "# Drivercode\n",
    "[\"11\",\"69\",\"88\",\"96\"]\n",
    "s = \"88\"\n",
    "isStrobogrammatic(s)\n",
    "\n",
    "# tc = O(n)\n",
    "# sc = O(1)"
   ]
  },
  {
   "attachments": {},
   "cell_type": "markdown",
   "metadata": {},
   "source": [
    "3. Given two non-negative integers, num1 and num2 represented as string, return *the sum of* num1 *and* num2 *as a string*.\n",
    "\n",
    "You must solve the problem without using any built-in library for handling large integers (such as BigInteger). You must also not convert the inputs to integers directly.\n",
    "\n",
    "**Example 1:**\n",
    "\n",
    "**Input:** num1 = \"11\", num2 = \"123\"\n",
    "\n",
    "**Output:**\n",
    "\n",
    "\"134\"\n",
    "\n",
    "**Approach**:\n",
    "- Reverse the input strings num1 and num2 so that we start adding from the least significant digits.\n",
    "- Pad the shorter input string with zeros so that both strings are the same length.\n",
    "- Initialize an empty string result to store the sum of the two input strings and a variable carry to 0.\n",
    "- Loop through both strings, starting from the least significant digits, and add the corresponding digits of num1 and num2.\n",
    "- if there is a carry from the previous iteration, add it to the sum.\n",
    "- If the sum is greater than or equal to 10, set carry to 1 and subtract 10 from the sum. Otherwise, set carry to 0.\n",
    "- Append the least significant digit of the sum to the result string.\n",
    "- If there is a carry after the last iteration, append it to the result string.\n",
    "- Reverse the result string to obtain the final sum.\n",
    "- Return the final sum as a string."
   ]
  },
  {
   "cell_type": "code",
   "execution_count": 6,
   "metadata": {},
   "outputs": [
    {
     "data": {
      "text/plain": [
       "'134'"
      ]
     },
     "execution_count": 6,
     "metadata": {},
     "output_type": "execute_result"
    }
   ],
   "source": [
    "def add_str(num1, num2):\n",
    "   # Reverse the input strings to start adding from the least significant digits\n",
    "    num1 = num1[::-1]\n",
    "    num2 = num2[::-1]\n",
    "    # Pad the shorter input string with zeros\n",
    "    if len(num1) < len(num2):\n",
    "        num1 += '0' * (len(num2) - len(num1))\n",
    "    else:\n",
    "        num2 += '0' * (len(num1) - len(num2))\n",
    "    \n",
    "    result = ''\n",
    "    carry = 0\n",
    "    \n",
    "    # Loop through both strings, starting from the least significant digits\n",
    "    for i in range(len(num1)):\n",
    "        \n",
    "        # Convert the current digit in each string to an integer and add them together\n",
    "        digit_sum = int(num1[i]) + int(num2[i]) + carry\n",
    "\n",
    "        # Determine the carry for the next iteration, if any\n",
    "        carry = digit_sum // 10\n",
    "        # Append the least significant digit of the sum to the result string\n",
    "        \n",
    "        result += str(digit_sum % 10)\n",
    "    \n",
    "    # If there is a carry after the last iteration, append it to the result string\n",
    "    if carry > 0:\n",
    "        result += str(carry)\n",
    "    \n",
    "    # Reverse the result string to obtain the final sum\n",
    "    return result[::-1]\n",
    "\n",
    "\n",
    "num1 = \"11\"\n",
    "num2 = \"123\"\n",
    "add_str(num1,num2)\n",
    "\n",
    "#tc = O(n)\n",
    "#sc = O(1)"
   ]
  },
  {
   "attachments": {},
   "cell_type": "markdown",
   "metadata": {},
   "source": [
    "4. Given a string s, reverse the order of characters in each word within a sentence while still preserving whitespace and initial word order.\n",
    "\n",
    "**Example 1:**\n",
    "\n",
    "**Input:** s = \"Let's take LeetCode contest\"\n",
    "\n",
    "**Output:** \"s'teL ekat edoCteeL tsetnoc\""
   ]
  },
  {
   "cell_type": "code",
   "execution_count": 4,
   "metadata": {},
   "outputs": [
    {
     "data": {
      "text/plain": [
       "\"s'teL ekat edoCteeL tsetnoc\""
      ]
     },
     "execution_count": 4,
     "metadata": {},
     "output_type": "execute_result"
    }
   ],
   "source": [
    "def reverse_words_in_sentence(s):\n",
    "    words = list(map(str,s.split()))\n",
    "    # print(words[:])\n",
    "    for i in range(len(words)):\n",
    "        words[i] = words[i][::-1]\n",
    "        # print(words[i])\n",
    "\n",
    "    s1 = \" \".join(words)\n",
    "\n",
    "    return s1\n",
    "\n",
    "#Drivercode\n",
    "s = \"Let's take LeetCode contest\"\n",
    "reverse_words_in_sentence(s)"
   ]
  },
  {
   "attachments": {},
   "cell_type": "markdown",
   "metadata": {},
   "source": [
    "5. Given a string s and an integer k, reverse the first k characters for every 2k characters counting from the start of the string.\n",
    "\n",
    "If there are fewer than k characters left, reverse all of them. If there are less than 2k but greater than or equal to k characters, then reverse the first k characters and leave the other as original.\n",
    "\n",
    "**Example 1:**\n",
    "\n",
    "**Input:** s = \"abcdefg\", k = 2\n",
    "\n",
    "**Output:**\n",
    "\n",
    "\"bacdfeg\"\n",
    "\n",
    "**Algoritm**:\n",
    "\n",
    "We will reverse each block of 2k characters directly.\n",
    "\n",
    "Each block starts at a multiple of 2k: for example, 0, 2k, 4k, 6k, .... One thing to be careful about is we may not reverse each block if there aren't enough characters.\n",
    "\n",
    "To reverse a block of characters from i to j, we can swap characters in positions i++ and j--."
   ]
  },
  {
   "cell_type": "code",
   "execution_count": 25,
   "metadata": {},
   "outputs": [
    {
     "data": {
      "text/plain": [
       "'bacdfeghjiklnm'"
      ]
     },
     "execution_count": 25,
     "metadata": {},
     "output_type": "execute_result"
    }
   ],
   "source": [
    "def reverse_k_char(s,k):\n",
    "    a = list(s)\n",
    "    for i in range(0, len(a), 2*k):\n",
    "        a[i:i+k] = reversed(a[i:i+k])\n",
    "        \n",
    "    return \"\".join(a)\n",
    "\n",
    "\n",
    "\n",
    "# Drivercode\n",
    "\n",
    "s = \"abcdefghijklmn\"\n",
    "k = 2\n",
    "reverse_k_char(s,k)\n",
    "\n",
    "# tc =O(n) \n",
    "# sc = O(n)"
   ]
  },
  {
   "attachments": {},
   "cell_type": "markdown",
   "metadata": {},
   "source": [
    "6. Given two strings s and goal, return true *if and only if* s *can become* goal *after some number of **shifts** on* s.\n",
    "\n",
    "A **shift** on s consists of moving the leftmost character of s to the rightmost position.\n",
    "\n",
    "- For example, if s = \"abcde\", then it will be \"bcdea\" after one shift.\n",
    "\n",
    "**Example 1:**\n",
    "\n",
    "**Input:** s = \"abcde\", goal = \"cdeab\"\n",
    "\n",
    "**Output:**\n",
    "\n",
    "true"
   ]
  },
  {
   "cell_type": "code",
   "execution_count": 26,
   "metadata": {},
   "outputs": [
    {
     "data": {
      "text/plain": [
       "False"
      ]
     },
     "execution_count": 26,
     "metadata": {},
     "output_type": "execute_result"
    }
   ],
   "source": [
    "def rotateString(A, goal):\n",
    "    N = len(A)\n",
    "    if N != len(goal): return False\n",
    "    if N == 0: return True\n",
    "\n",
    "    #Compute shift table\n",
    "    shifts = [1] * (N+1)\n",
    "    left = -1\n",
    "    for right in range(N):\n",
    "        while left >= 0 and goal[left] != goal[right]:\n",
    "            left -= shifts[left]\n",
    "        shifts[right + 1] = right - left\n",
    "        left += 1\n",
    "\n",
    "    #Find match of goal in A+A\n",
    "    match_len = 0\n",
    "    for char in A+A:\n",
    "        while match_len >= 0 and goal[match_len] != char:\n",
    "            match_len -= shifts[match_len]\n",
    "\n",
    "        match_len += 1\n",
    "        if match_len == N:\n",
    "            return True\n",
    "\n",
    "    return False\n",
    "\n",
    "A = \"abcde\"\n",
    "goal = \"abced\"\n",
    "\n",
    "rotateString(A,goal)"
   ]
  },
  {
   "attachments": {},
   "cell_type": "markdown",
   "metadata": {},
   "source": [
    "7. Given two strings s and t, return true *if they are equal when both are typed into empty text editors*. '#' means a backspace character.\n",
    "\n",
    "Note that after backspacing an empty text, the text will continue empty.\n",
    "\n",
    "**Example 1:**\n",
    "\n",
    "**Input:** s = \"ab#c\", t = \"ad#c\"\n",
    "\n",
    "**Output:** true\n",
    "\n",
    "**Explanation:**\n",
    "\n",
    "Both s and t become \"ac\".\n",
    "\n",
    "**Algorithm**\n",
    "\n",
    "Iterate through the string in reverse. If we see a backspace character, the next non-backspace character is skipped. If a character isn't skipped, it is part of the final answer."
   ]
  },
  {
   "cell_type": "code",
   "execution_count": 30,
   "metadata": {},
   "outputs": [
    {
     "data": {
      "text/plain": [
       "False"
      ]
     },
     "execution_count": 30,
     "metadata": {},
     "output_type": "execute_result"
    }
   ],
   "source": [
    "import itertools\n",
    "def backspaceCompare(S, T):\n",
    "    def F(S):\n",
    "        skip = 0\n",
    "        for x in reversed(S):\n",
    "            if x == '#':\n",
    "                skip += 1\n",
    "            elif skip:\n",
    "                skip -= 1\n",
    "            else:\n",
    "                yield x\n",
    "\n",
    "    return all(x == y for x, y in itertools.zip_longest(F(S), F(T)))\n",
    "\n",
    "\n",
    "\n",
    "# s = \"a#c\"\n",
    "# t = \"b\"\n",
    "\n",
    "# s = \"ab##\"\n",
    "# t = \"c#d#\"\n",
    "\n",
    "s = \"a#c\"\n",
    "t = \"b\"\n",
    "\n",
    "backspaceCompare(s,t)\n",
    "\n",
    "# tc = O(m+n)\n",
    "# sc = O(1)"
   ]
  },
  {
   "attachments": {
    "image.png": {
     "image/png": "[encoded data removed]"
    }
   },
   "cell_type": "markdown",
   "metadata": {},
   "source": [
    "8. You are given an array coordinates, coordinates[i] = [x, y], where [x, y] represents the coordinate of a point. Check if these points make a straight line in the XY plane.\n",
    "\n",
    "**Example 1:**\n",
    "\n",
    "![image.png](attachment:image.png)\n",
    "\n",
    "**Input:** coordinates = [[1,2],[2,3],[3,4],[4,5],[5,6],[6,7]]\n",
    "\n",
    "**Output:** true\n",
    "\n",
    "**Algorithm**\n",
    "\n",
    "- Find the ΔX\\Delta XΔX and ΔY\\Delta YΔY using the points at index 0 and 1.\n",
    "- Iterate over the indices from 2 to the end of the list, and for each index i find the ΔX\\Delta XΔX, ΔY\\Delta YΔY for points at index 0 and i.\n",
    "- Compare the slope calculated in step #1 with that of step #2 using the previous equation.\n",
    "- If the equation is not satisfied, return false.\n",
    "- Otherwise, at the end of the loop return true."
   ]
  },
  {
   "cell_type": "code",
   "execution_count": 31,
   "metadata": {},
   "outputs": [
    {
     "data": {
      "text/plain": [
       "True"
      ]
     },
     "execution_count": 31,
     "metadata": {},
     "output_type": "execute_result"
    }
   ],
   "source": [
    "def checkStraightLine(coordinates):\n",
    "    x0, y0 = coordinates[0]\n",
    "    x1, y1 = coordinates[1]\n",
    "\n",
    "    for i in range(2, len(coordinates)):\n",
    "        x, y = coordinates[i]\n",
    "        if (x - x0) * (y1 - y0) != (y - y0) * (x1 - x0):\n",
    "            return False\n",
    "\n",
    "    return True\n",
    "\n",
    "\n",
    "coordinates = [[1,2],[2,3],[3,4],[4,5],[5,6],[6,7]]\n",
    "\n",
    "checkStraightLine(coordinates)"
   ]
  }
 ],
 "metadata": {
  "kernelspec": {
   "display_name": "base",
   "language": "python",
   "name": "python3"
  },
  "language_info": {
   "codemirror_mode": {
    "name": "ipython",
    "version": 3
   },
   "file_extension": ".py",
   "mimetype": "text/x-python",
   "name": "python",
   "nbconvert_exporter": "python",
   "pygments_lexer": "ipython3",
   "version": "3.9.13"
  },
  "orig_nbformat": 4
 },
 "nbformat": 4,
 "nbformat_minor": 2
}
