{
 "cells": [
  {
   "attachments": {},
   "cell_type": "markdown",
   "metadata": {},
   "source": [
    "**Question 1**\n",
    "\n",
    "Given an integer `n`, return *`true` if it is a power of two. Otherwise, return `false`*.\n",
    "\n",
    "An integer `n` is a power of two, if there exists an integer `x` such that `n == 2^x`.\n",
    "\n",
    "**Example 1:**\n",
    "Input: n = 1 \n",
    "\n",
    "Output: true\n",
    "\n",
    "**Example 2:**\n",
    "Input: n = 16 \n",
    "\n",
    "Output: true\n",
    "\n",
    "**Example 3:**\n",
    "Input: n = 3 \n",
    "\n",
    "Output: false\n",
    "\n",
    "**Approach:**\n",
    "\n",
    "- key idea = the binary form of every power of two likes 0b100...0, because pow(2, n) == 1 << n\n",
    "- the binary form of every pow(2, n) - 1 likes 0b11..1\n",
    "- so we can find pow(2, n) & (pow(2, n) - 1) == 0\n",
    "    - for example, num = 4 = 0b100\n",
    "    - 4 - 1 = 3 = 0b11\n",
    "    - 4 & 3 = 0b100 & 0b11 = 0\n",
    "- if n is not a power of two then n & n - 1 != 0\n",
    "    - If m is not a power of two, then the binary form of m contains more than one 1, that is 0b1x..x10..0, x represents 0 or 1\n",
    "        - so m - 1 = 0b1x..x10..0 - 1 = 0b1x..x01..1, that is the first 1 in m is still in the binary form of m - 1, so that m & (m - 1) = 0b1x..x0..0 > 0\n",
    "        - for example, m = 6 = 0b110\n",
    "            - 6 - 1 = 5 = 0b101\n",
    "            - 6 & 5 = 4 = 0b100 > 0\n",
    "            - The bold 1 is still there!!!\n",
    "\n",
    "- **More generally, for any number n > 0**\n",
    "    - n & n - 1 removes the last 1 in the binary form of n\n",
    "    - if and only if n is a power of two, there is only one 1 in the binary form of n\n"
   ]
  },
  {
   "cell_type": "code",
   "execution_count": 1,
   "metadata": {},
   "outputs": [
    {
     "data": {
      "text/plain": [
       "False"
      ]
     },
     "execution_count": 1,
     "metadata": {},
     "output_type": "execute_result"
    }
   ],
   "source": [
    "def isPowerOfTwo(n):\n",
    "    return n and not (n & n - 1)\n",
    "\n",
    "n = 24\n",
    "isPowerOfTwo(n)\n",
    "\n",
    "# tc = sc = O(1)"
   ]
  },
  {
   "attachments": {},
   "cell_type": "markdown",
   "metadata": {},
   "source": [
    "**Question 2**\n",
    "\n",
    "Given a number n, find the sum of the first natural numbers.\n",
    "\n",
    "**Example 1:**\n",
    "\n",
    "Input: n = 3 \n",
    "\n",
    "Output: 6\n",
    "\n",
    "**Example 2:**\n",
    "\n",
    "Input  : 5 \n",
    "\n",
    "Output : 15"
   ]
  },
  {
   "cell_type": "code",
   "execution_count": 2,
   "metadata": {},
   "outputs": [
    {
     "data": {
      "text/plain": [
       "6"
      ]
     },
     "execution_count": 2,
     "metadata": {},
     "output_type": "execute_result"
    }
   ],
   "source": [
    "def sum_upto(n):\n",
    "    if n == 1:\n",
    "        return 1\n",
    "    \n",
    "    return n + sum_upto(n-1)\n",
    "\n",
    "n = 3\n",
    "sum_upto(n)"
   ]
  },
  {
   "attachments": {},
   "cell_type": "markdown",
   "metadata": {},
   "source": [
    "**Question 3**\n",
    "\n",
    "****Given a positive integer, N. Find the factorial of N. \n",
    "\n",
    "**Example 1:**\n",
    "\n",
    "Input: N = 5 \n",
    "\n",
    "Output: 120\n",
    "\n",
    "**Example 2:**\n",
    "\n",
    "Input: N = 4\n",
    "\n",
    "Output: 24"
   ]
  },
  {
   "cell_type": "code",
   "execution_count": 3,
   "metadata": {},
   "outputs": [
    {
     "data": {
      "text/plain": [
       "120"
      ]
     },
     "execution_count": 3,
     "metadata": {},
     "output_type": "execute_result"
    }
   ],
   "source": [
    "def factorial(n):\n",
    "    if n == 0 or n == 1:\n",
    "        return 1\n",
    "    \n",
    "    return n * factorial(n-1)\n",
    "\n",
    "n = 5\n",
    "factorial(n)"
   ]
  },
  {
   "attachments": {},
   "cell_type": "markdown",
   "metadata": {},
   "source": [
    "**Question 4**\n",
    "\n",
    "Given a number N and a power P, the task is to find the exponent of this number raised to the given power, i.e. N^P.\n",
    "\n",
    "**Example 1 :** \n",
    "\n",
    "Input: N = 5, P = 2\n",
    "\n",
    "Output: 25\n",
    "\n",
    "**Example 2 :**\n",
    "Input: N = 2, P = 5\n",
    "\n",
    "Output: 32\n"
   ]
  },
  {
   "cell_type": "code",
   "execution_count": 4,
   "metadata": {},
   "outputs": [
    {
     "data": {
      "text/plain": [
       "125"
      ]
     },
     "execution_count": 4,
     "metadata": {},
     "output_type": "execute_result"
    }
   ],
   "source": [
    "def power(n,p):\n",
    "    if p == 0:\n",
    "        return 1\n",
    "    elif p == 1:\n",
    "        return n\n",
    "    \n",
    "    return n * power(n,(p-1))\n",
    "\n",
    "n= 5\n",
    "p = 3\n",
    "\n",
    "power(n,p)"
   ]
  },
  {
   "attachments": {},
   "cell_type": "markdown",
   "metadata": {},
   "source": [
    "**Question 5**\n",
    "\n",
    "Given an array of integers **arr**, the task is to find maximum element of that array using recursion.\n",
    "\n",
    "**Example 1:**\n",
    "\n",
    "Input: arr = {1, 4, 3, -5, -4, 8, 6};\n",
    "Output: 8\n",
    "\n",
    "**Example 2:**\n",
    "\n",
    "Input: arr = {1, 4, 45, 6, 10, -8};\n",
    "Output: 45"
   ]
  },
  {
   "cell_type": "code",
   "execution_count": 5,
   "metadata": {},
   "outputs": [
    {
     "data": {
      "text/plain": [
       "100"
      ]
     },
     "execution_count": 5,
     "metadata": {},
     "output_type": "execute_result"
    }
   ],
   "source": [
    "def maximum(arr,n):\n",
    "    if n == 1:\n",
    "        return arr[0]\n",
    "    \n",
    "    return max(arr[n-1], maximum(arr, n- 1))\n",
    "\n",
    "arr = [-89,98,76,32,21,35,100]\n",
    "n = len(arr)\n",
    "maximum(arr,n)"
   ]
  },
  {
   "attachments": {},
   "cell_type": "markdown",
   "metadata": {},
   "source": [
    "**Question 6**\n",
    "\n",
    "Given first term (a), common difference (d) and a integer N of the Arithmetic Progression series, the task is to find Nth term of the series.\n",
    "\n",
    "**Example 1:**\n",
    "\n",
    "Input : a = 2 d = 1 N = 5\n",
    "Output : 6\n",
    "The 5th term of the series is : 6\n",
    "\n",
    "**Example 2:**\n",
    "\n",
    "Input : a = 5 d = 2 N = 10\n",
    "Output : 23\n",
    "The 10th term of the series is : 23\n"
   ]
  },
  {
   "cell_type": "code",
   "execution_count": 8,
   "metadata": {},
   "outputs": [
    {
     "data": {
      "text/plain": [
       "23"
      ]
     },
     "execution_count": 8,
     "metadata": {},
     "output_type": "execute_result"
    }
   ],
   "source": [
    "def nth_term(a,d,n):\n",
    "    if n == 1:\n",
    "        return a\n",
    "    \n",
    "    return a + (n-1)*d\n",
    "\n",
    "a = 5\n",
    "d = 2\n",
    "n = 10\n",
    "\n",
    "nth_term(a,d,n)"
   ]
  },
  {
   "attachments": {},
   "cell_type": "markdown",
   "metadata": {},
   "source": [
    "**Question 7**\n",
    "\n",
    "Given a string S, the task is to write a program to print all permutations of a given string.\n",
    "\n",
    "**Example 1:**\n",
    "\n",
    "***Input:***\n",
    "\n",
    "*S = “ABC”*\n",
    "\n",
    "***Output:***\n",
    "\n",
    "*“ABC”, “ACB”, “BAC”, “BCA”, “CBA”, “CAB”*\n",
    "\n",
    "**Example 2:**\n",
    "\n",
    "***Input:***\n",
    "\n",
    "*S = “XY”*\n",
    "\n",
    "***Output:***\n",
    "\n",
    "*“XY”, “YX”*\n"
   ]
  },
  {
   "cell_type": "code",
   "execution_count": 11,
   "metadata": {},
   "outputs": [
    {
     "name": "stdout",
     "output_type": "stream",
     "text": [
      "ABCD  ABDC  ACBD  ACDB  ADBC  ADCB  BACD  BADC  BCAD  BCDA  BDAC  BDCA  CABD  CADB  CBAD  CBDA  CDAB  CDBA  DABC  DACB  DBAC  DBCA  DCAB  DCBA  "
     ]
    }
   ],
   "source": [
    "def permute(s, answer):\n",
    "    if (len(s) == 0):\n",
    "        print(answer, end=\"  \")\n",
    "        return\n",
    " \n",
    "    for i in range(len(s)):\n",
    "        ch = s[i]\n",
    "        left_substr = s[0:i]\n",
    "        right_substr = s[i + 1:]\n",
    "        rest = left_substr + right_substr\n",
    "        permute(rest, answer + ch)\n",
    " \n",
    " \n",
    "# Driver Code\n",
    "\n",
    "answer = \"\"\n",
    "s = \"ABCD\"\n",
    "permute(s, answer)"
   ]
  },
  {
   "attachments": {},
   "cell_type": "markdown",
   "metadata": {},
   "source": [
    "**Question 8**\n",
    "\n",
    "Given an array, find a product of all array elements.\n",
    "\n",
    "**Example 1:**\n",
    "\n",
    "Input  : arr[] = {1, 2, 3, 4, 5}\n",
    "Output : 120\n",
    "**Example 2:**\n",
    "\n",
    "Input  : arr[] = {1, 6, 3}\n",
    "Output : 18\n"
   ]
  },
  {
   "cell_type": "code",
   "execution_count": 15,
   "metadata": {},
   "outputs": [
    {
     "data": {
      "text/plain": [
       "5040"
      ]
     },
     "execution_count": 15,
     "metadata": {},
     "output_type": "execute_result"
    }
   ],
   "source": [
    "def product(arr, n):\n",
    "    if n == 1:\n",
    "        return arr[0]\n",
    "    \n",
    "    return arr[n-1] * product(arr, n-1)\n",
    "\n",
    "\n",
    "\n",
    "arr = [1,2,3,4,5,6,7]\n",
    "n = len(arr)\n",
    "product(arr, n)"
   ]
  }
 ],
 "metadata": {
  "kernelspec": {
   "display_name": "base",
   "language": "python",
   "name": "python3"
  },
  "language_info": {
   "codemirror_mode": {
    "name": "ipython",
    "version": 3
   },
   "file_extension": ".py",
   "mimetype": "text/x-python",
   "name": "python",
   "nbconvert_exporter": "python",
   "pygments_lexer": "ipython3",
   "version": "3.9.13"
  },
  "orig_nbformat": 4
 },
 "nbformat": 4,
 "nbformat_minor": 2
}
