{
 "cells": [
  {
   "cell_type": "markdown",
   "metadata": {},
   "source": [
    "**Question 1**\n",
    "\n",
    "Given a string `s`, *find the first non-repeating character in it and return its index*. If it does not exist, return `-1`.\n",
    "\n",
    "**Example 1:**\n",
    "Input: s = \"leetcode\"\n",
    "Output: 0\n",
    "\n",
    "Input: s = \"loveleetcode\"\n",
    "Output: 2\n",
    "\n",
    "\n",
    "Input: s = \"aabb\"\n",
    "Output: -1"
   ]
  },
  {
   "cell_type": "code",
   "execution_count": 22,
   "metadata": {},
   "outputs": [
    {
     "data": {
      "text/plain": [
       "'First non-repeating character is 2'"
      ]
     },
     "execution_count": 22,
     "metadata": {},
     "output_type": "execute_result"
    }
   ],
   "source": [
    "def first_nonrepeating_char(s):\n",
    "    if len(s) == 0:\n",
    "        return -1\n",
    "    \n",
    "    else:\n",
    "        idx = -1\n",
    "        for i in range(len(s)):\n",
    "            if s.count(s[i]) == 1:\n",
    "                return f\"First non-repeating character is {i}\"\n",
    "            else:\n",
    "                idx += 1\n",
    "\n",
    "        if idx == len(s)-1:\n",
    "            print(\"All character are non-repeating\")\n",
    "         \n",
    "# Drivercode\n",
    "\n",
    "string = \"loveleetcode\"\n",
    "first_nonrepeating_char(string)"
   ]
  },
  {
   "cell_type": "markdown",
   "metadata": {},
   "source": [
    "**Question 2**\n",
    "\n",
    "Given a **circular integer array** `nums` of length `n`, return *the maximum possible sum of a non-empty **subarray** of* `nums`.\n",
    "\n",
    "A **circular array** means the end of the array connects to the beginning of the array. Formally, the next element of `nums[i]` is `nums[(i + 1) % n]` and the previous element of `nums[i]` is `nums[(i - 1 + n) % n]`.\n",
    "\n",
    "A **subarray** may only include each element of the fixed buffer `nums` at most once. Formally, for a subarray `nums[i], nums[i + 1], ..., nums[j]`, there does not exist `i <= k1`, `k2 <= j` with `k1 % n == k2 % n`.\n",
    "\n",
    "**Example 1:**\n",
    "\n",
    "Input: nums = [1,-2,3,-2]\n",
    "Output: 3\n",
    "Explanation: Subarray [3] has maximum sum 3.\n",
    "\n",
    "Input: nums = [5,-3,5]\n",
    "Output: 10\n",
    "Explanation: Subarray [5,5] has maximum sum 5 + 5 = 10.\n",
    "\n",
    "\n",
    "Input: nums = [-3,-2,-3]\n",
    "Output: -2\n",
    "Explanation: Subarray [-2] has maximum sum -2."
   ]
  },
  {
   "cell_type": "code",
   "execution_count": 23,
   "metadata": {},
   "outputs": [
    {
     "name": "stdout",
     "output_type": "stream",
     "text": [
      "Maximum circular sum is -2\n"
     ]
    }
   ],
   "source": [
    "def maxCircularSum(a, n):\n",
    "    if (n == 1):\n",
    "        return a[0]\n",
    "    \n",
    "    sum = 0\n",
    "    for i in range(n):\n",
    "        sum += a[i]\n",
    " \n",
    "    # Initialize every variable with first value of array.\n",
    "    curr_max = a[0]\n",
    "    max_so_far = a[0]\n",
    "    curr_min = a[0]\n",
    "    min_so_far = a[0]\n",
    " \n",
    "    # Concept of Kadane's Algorithm\n",
    "    for i in range(1, n):\n",
    "       \n",
    "        # Kadane's Algorithm to find Maximum subarray sum.\n",
    "        curr_max = max(curr_max + a[i], a[i])\n",
    "        max_so_far = max(max_so_far, curr_max)\n",
    " \n",
    "        # Kadane's Algorithm to find Minimum subarray sum.\n",
    "        curr_min = min(curr_min + a[i], a[i])\n",
    "        min_so_far = min(min_so_far, curr_min)\n",
    "\n",
    "    if (min_so_far == sum):\n",
    "        return max_so_far\n",
    " \n",
    "    # returning the maximum value\n",
    "    return max(max_so_far, sum - min_so_far)\n",
    " \n",
    "# Driver code\n",
    "a = [-3,-2,-3]\n",
    "n = len(a)\n",
    "print(\"Maximum circular sum is\", maxCircularSum(a, n))"
   ]
  },
  {
   "cell_type": "markdown",
   "metadata": {},
   "source": [
    "**Question 3**\n",
    "\n",
    "The school cafeteria offers circular and square sandwiches at lunch break, referred to by numbers `0` and `1` respectively. All students stand in a queue. Each student either prefers square or circular sandwiches.\n",
    "\n",
    "The number of sandwiches in the cafeteria is equal to the number of students. The sandwiches are placed in a **stack**. At each step:\n",
    "\n",
    "- If the student at the front of the queue **prefers** the sandwich on the top of the stack, they will **take it** and leave the queue.\n",
    "- Otherwise, they will **leave it** and go to the queue's end.\n",
    "\n",
    "This continues until none of the queue students want to take the top sandwich and are thus unable to eat.\n",
    "\n",
    "You are given two integer arrays `students` and `sandwiches` where `sandwiches[i]` is the type of the `ith` sandwich in the stack (`i = 0` is the top of the stack) and `students[j]` is the preference of the `jth` student in the initial queue (`j = 0` is the front of the queue). Return *the number of students that are unable to eat.*\n",
    "\n",
    "**Example 1:**\n",
    "\n",
    "Input: students = [1,1,0,0], sandwiches = [0,1,0,1]\n",
    "Output: 0\n",
    "Explanation:\n",
    "- Front student leaves the top sandwich and returns to the end of the line making students = [1,0,0,1].\n",
    "- Front student leaves the top sandwich and returns to the end of the line making students = [0,0,1,1].\n",
    "- Front student takes the top sandwich and leaves the line making students = [0,1,1] and sandwiches = [1,0,1].\n",
    "- Front student leaves the top sandwich and returns to the end of the line making students = [1,1,0].\n",
    "- Front student takes the top sandwich and leaves the line making students = [1,0] and sandwiches = [0,1].\n",
    "- Front student leaves the top sandwich and returns to the end of the line making students = [0,1].\n",
    "- Front student takes the top sandwich and leaves the line making students = [1] and sandwiches = [1].\n",
    "- Front student takes the top sandwich and leaves the line making students = [] and sandwiches = [].\n",
    "Hence all students are able to eat.\n",
    "\n",
    "Input: students = [1,1,1,0,0,1], sandwiches = [1,0,0,0,1,1]\n",
    "Output: 3\n"
   ]
  },
  {
   "cell_type": "code",
   "execution_count": 24,
   "metadata": {},
   "outputs": [
    {
     "data": {
      "text/plain": [
       "3"
      ]
     },
     "execution_count": 24,
     "metadata": {},
     "output_type": "execute_result"
    }
   ],
   "source": [
    "from collections import Counter\n",
    "\n",
    "def countStudents(students, sandwiches):\n",
    "    # create a counter of students.\n",
    "    student_count = Counter(students)\n",
    "    # print(student_count)\n",
    "\n",
    "    # iterate sandwiches, one by one and \n",
    "    # check if there is any student left who wants that sandwich.\n",
    "    for sandwich in sandwiches:\n",
    "\n",
    "        if student_count[sandwich] > 0:\n",
    "            # student who wants that sandwich, we decrease counter by 1\n",
    "            student_count[sandwich] -= 1\n",
    "\n",
    "        else:\n",
    "            return student_count[not sandwich]\n",
    "    return 0\n",
    "\n",
    "# Driver code \n",
    "\n",
    "students = [1,1,1,0,0,1]\n",
    "sandwiches = [1,0,0,0,1,1]\n",
    "\n",
    "countStudents(students, sandwiches)"
   ]
  },
  {
   "cell_type": "markdown",
   "metadata": {},
   "source": [
    "**Question 4**\n",
    "You have a `RecentCounter` class which counts the number of recent requests within a certain time frame.\n",
    "\n",
    "Implement the `RecentCounter` class:\n",
    "\n",
    "- `RecentCounter()` Initializes the counter with zero recent requests.\n",
    "- `int ping(int t)` Adds a new request at time `t`, where `t` represents some time in milliseconds, and returns the number of requests that has happened in the past `3000` milliseconds (including the new request). Specifically, return the number of requests that have happened in the inclusive range `[t - 3000, t]`.\n",
    "\n",
    "It is **guaranteed** that every call to `ping` uses a strictly larger value of `t` than the previous call.\n",
    "\n",
    "**Example 1:**\n",
    "Input\n",
    "[\"RecentCounter\", \"ping\", \"ping\", \"ping\", \"ping\"]\n",
    "[[], [1], [100], [3001], [3002]]\n",
    "Output\n",
    "[null, 1, 2, 3, 3]\n",
    "\n",
    "Explanation\n",
    "RecentCounter recentCounter = new RecentCounter();\n",
    "recentCounter.ping(1);     // requests = [1], range is [-2999,1], return 1\n",
    "recentCounter.ping(100);   // requests = [1,100], range is [-2900,100], return 2\n",
    "recentCounter.ping(3001);  // requests = [1,100,3001], range is [1,3001], return 3\n",
    "recentCounter.ping(3002);  // requests = [1,100,3001,3002], range is [2,3002], return 3\n",
    "\n",
    "**Algorithm:**\n",
    "\n",
    "To implement the sliding window, we could use the LinkedList in Java or deque in Python.\n",
    "\n",
    "Then the ping(t) function can be implemented in two steps:\n",
    "\n",
    "Step 1): we append the current ping call to the tail of the sliding window.\n",
    "\n",
    "Step 2): starting from the head of the sliding window, we remove the outdated calls, until we come across a still valid ping call.\n",
    "\n",
    "As a result, the remaining calls in the sliding window are the ones that fall into the range of [t - 3000, t]."
   ]
  },
  {
   "cell_type": "code",
   "execution_count": 25,
   "metadata": {},
   "outputs": [],
   "source": [
    "from collections import deque\n",
    "\n",
    "class RecentCounter:\n",
    "\n",
    "    def __init__(self):\n",
    "        self.slide_window = deque()\n",
    "\n",
    "    def ping(self, t: int) -> int:\n",
    "        # step 1). append the current call\n",
    "        self.slide_window.append(t)\n",
    "\n",
    "        # step 2). invalidate the outdated pings\n",
    "        while self.slide_window[0] < t - 3000:\n",
    "            self.slide_window.popleft()\n",
    "\n",
    "        return len(self.slide_window)\n",
    "\n",
    "# tc = O(1)\n",
    "# sc = O(1)"
   ]
  },
  {
   "attachments": {
    "image.png": {
     "image/png": "[encoded data removed]"
    }
   },
   "cell_type": "markdown",
   "metadata": {},
   "source": [
    "**Question 5**\n",
    "\n",
    "There are `n` friends that are playing a game. The friends are sitting in a circle and are numbered from `1` to `n` in **clockwise order**. More formally, moving clockwise from the `ith` friend brings you to the `(i+1)th` friend for `1 <= i < n`, and moving clockwise from the `nth` friend brings you to the `1st` friend.\n",
    "\n",
    "The rules of the game are as follows:\n",
    "\n",
    "1. **Start** at the `1st` friend.\n",
    "2. Count the next `k` friends in the clockwise direction **including** the friend you started at. The counting wraps around the circle and may count some friends more than once.\n",
    "3. The last friend you counted leaves the circle and loses the game.\n",
    "4. If there is still more than one friend in the circle, go back to step `2` **starting** from the friend **immediately clockwise** of the friend who just lost and repeat.\n",
    "5. Else, the last friend in the circle wins the game.\n",
    "\n",
    "Given the number of friends, `n`, and an integer `k`, return *the winner of the game*.\n",
    "\n",
    "**Example 1:**\n",
    "\n",
    "![image.png](attachment:image.png)\n",
    "\n",
    "Input: n = 5, k = 2\n",
    "Output: 3\n",
    "Explanation: Here are the steps of the game:\n",
    "1) Start at friend 1.\n",
    "2) Count 2 friends clockwise, which are friends 1 and 2.\n",
    "3) Friend 2 leaves the circle. Next start is friend 3.\n",
    "4) Count 2 friends clockwise, which are friends 3 and 4.\n",
    "5) Friend 4 leaves the circle. Next start is friend 5.\n",
    "6) Count 2 friends clockwise, which are friends 5 and 1.\n",
    "7) Friend 1 leaves the circle. Next start is friend 3.\n",
    "8) Count 2 friends clockwise, which are friends 3 and 5.\n",
    "9) Friend 5 leaves the circle. Only friend 3 is left, so they are the winner.\n",
    "\n",
    "\n",
    "Input: n = 6, k = 5\n",
    "Output: 1\n",
    "Explanation: The friends leave in this order: 5, 4, 6, 2, 3. The winner is friend 1.\n"
   ]
  },
  {
   "cell_type": "code",
   "execution_count": 26,
   "metadata": {},
   "outputs": [
    {
     "data": {
      "text/plain": [
       "1"
      ]
     },
     "execution_count": 26,
     "metadata": {},
     "output_type": "execute_result"
    }
   ],
   "source": [
    "def helper( n:int, k:int)-> int:\n",
    "    if(n==1):\n",
    "        return 0\n",
    "    prevWinner = helper(n-1, k)\n",
    "    return (prevWinner + k) % n\n",
    "\n",
    "def findTheWinner(n: int, k: int) -> int:\n",
    "        return helper(n,k)+1\n",
    "\n",
    "\n",
    "# Drivercode\n",
    "\n",
    "n = 6\n",
    "k = 5\n",
    "\n",
    "findTheWinner(n,k)\n"
   ]
  },
  {
   "cell_type": "markdown",
   "metadata": {},
   "source": [
    "**Question 6**\n",
    "\n",
    "You are given an integer array `deck`. There is a deck of cards where every card has a unique integer. The integer on the `ith` card is `deck[i]`.\n",
    "\n",
    "You can order the deck in any order you want. Initially, all the cards start face down (unrevealed) in one deck.\n",
    "\n",
    "You will do the following steps repeatedly until all cards are revealed:\n",
    "\n",
    "1. Take the top card of the deck, reveal it, and take it out of the deck.\n",
    "2. If there are still cards in the deck then put the next top card of the deck at the bottom of the deck.\n",
    "3. If there are still unrevealed cards, go back to step 1. Otherwise, stop.\n",
    "\n",
    "Return *an ordering of the deck that would reveal the cards in increasing order*.\n",
    "\n",
    "**Note** that the first entry in the answer is considered to be the top of the deck.\n",
    "\n",
    "**Example 1:**\n",
    "\n",
    "Input: deck = [17,13,11,2,3,5,7]\n",
    "Output: [2,13,3,11,5,17,7]\n",
    "Explanation:\n",
    "We get the deck in the order [17,13,11,2,3,5,7] (this order does not matter), and reorder it.\n",
    "After reordering, the deck starts as [2,13,3,11,5,17,7], where 2 is the top of the deck.\n",
    "We reveal 2, and move 13 to the bottom.  The deck is now [3,11,5,17,7,13].\n",
    "We reveal 3, and move 11 to the bottom.  The deck is now [5,17,7,13,11].\n",
    "We reveal 5, and move 17 to the bottom.  The deck is now [7,13,11,17].\n",
    "We reveal 7, and move 13 to the bottom.  The deck is now [11,17,13].\n",
    "We reveal 11, and move 17 to the bottom.  The deck is now [13,17].\n",
    "We reveal 13, and move 17 to the bottom.  The deck is now [17].\n",
    "We reveal 17.\n",
    "Since all the cards revealed are in increasing order, the answer is correct.\n",
    "\n",
    "Input: deck = [1,1000]\n",
    "Output: [1,1000]\n"
   ]
  },
  {
   "cell_type": "code",
   "execution_count": 27,
   "metadata": {},
   "outputs": [
    {
     "data": {
      "text/plain": [
       "[2, 13, 3, 11, 5, 17, 7]"
      ]
     },
     "execution_count": 27,
     "metadata": {},
     "output_type": "execute_result"
    }
   ],
   "source": [
    "import collections\n",
    "\n",
    "def deckRevealedIncreasing(deck):\n",
    "    N = len(deck)\n",
    "    index = collections.deque(range(N))\n",
    "    ans = [None] * N\n",
    "\n",
    "    for card in sorted(deck):\n",
    "        ans[index.popleft()] = card\n",
    "        if index:\n",
    "            index.append(index.popleft())\n",
    "\n",
    "    return ans\n",
    "\n",
    "# Driver code \n",
    "\n",
    "deck = [17,13,11,2,3,5,7]\n",
    "deckRevealedIncreasing(deck)\n",
    "\n",
    "# tc =O(nlog n)\n",
    "# sc = O(n)"
   ]
  },
  {
   "cell_type": "markdown",
   "metadata": {},
   "source": [
    " **Question 7**\n",
    "\n",
    "Design a queue that supports `push` and `pop` operations in the front, middle, and back.\n",
    "\n",
    "Implement the `FrontMiddleBack` class:\n",
    "\n",
    "- `FrontMiddleBack()` Initializes the queue.\n",
    "- `void pushFront(int val)` Adds `val` to the **front** of the queue.\n",
    "- `void pushMiddle(int val)` Adds `val` to the **middle** of the queue.\n",
    "- `void pushBack(int val)` Adds `val` to the **back** of the queue.\n",
    "- `int popFront()` Removes the **front** element of the queue and returns it. If the queue is empty, return `1`.\n",
    "- `int popMiddle()` Removes the **middle** element of the queue and returns it. If the queue is empty, return `1`.\n",
    "- `int popBack()` Removes the **back** element of the queue and returns it. If the queue is empty, return `1`.\n",
    "\n",
    "**Notice** that when there are **two** middle position choices, the operation is performed on the **frontmost** middle position choice. For example:\n",
    "\n",
    "- Pushing `6` into the middle of `[1, 2, 3, 4, 5]` results in `[1, 2, 6, 3, 4, 5]`.\n",
    "- Popping the middle from `[1, 2, 3, 4, 5, 6]` returns `3` and results in `[1, 2, 4, 5, 6]`.\n",
    "\n",
    "**Example 1:**\n",
    "\n",
    "\n",
    "Input:\n",
    "[\"FrontMiddleBackQueue\", \"pushFront\", \"pushBack\", \"pushMiddle\", \"pushMiddle\", \"popFront\", \"popMiddle\", \"popMiddle\", \"popBack\", \"popFront\"]\n",
    "[[], [1], [2], [3], [4], [], [], [], [], []]\n",
    "Output:\n",
    "[null, null, null, null, null, 1, 3, 4, 2, -1]\n",
    "\n",
    "Explanation:\n",
    "FrontMiddleBackQueue q = new FrontMiddleBackQueue();\n",
    "q.pushFront(1);   // [1]\n",
    "q.pushBack(2);    // [1,2]\n",
    "q.pushMiddle(3);  // [1,3, 2]\n",
    "q.pushMiddle(4);  // [1,4, 3, 2]\n",
    "q.popFront();     // return 1 -> [4, 3, 2]\n",
    "q.popMiddle();    // return 3 -> [4, 2]\n",
    "q.popMiddle();    // return 4 -> [2]\n",
    "q.popBack();      // return 2 -> []\n",
    "q.popFront();     // return -1 -> [] (The queue is empty)"
   ]
  },
  {
   "cell_type": "code",
   "execution_count": 28,
   "metadata": {},
   "outputs": [
    {
     "name": "stdout",
     "output_type": "stream",
     "text": [
      "[1]\n",
      "[1, 2]\n",
      "[1, 3, 2]\n",
      "[1, 4, 3, 2]\n",
      "********\n",
      "1\n",
      "3\n",
      "4\n",
      "2\n",
      "-1\n",
      "[]\n"
     ]
    }
   ],
   "source": [
    "class FrontMiddleBackQueue:\n",
    "\n",
    "    def __init__(self):\n",
    "        self.l = []\n",
    "\n",
    "    def pushFront(self, val: int) -> None:\n",
    "        self.l.insert(0,val)\n",
    "        \n",
    "\n",
    "    def pushMiddle(self, val: int) -> None:\n",
    "        a = len(self.l)//2\n",
    "        self.l.insert(a,val)\n",
    "\n",
    "    def pushBack(self, val: int) -> None:\n",
    "        self.l.append(val)\n",
    "        \n",
    "\n",
    "    def popFront(self) -> int:\n",
    "        if len(self.l)>0:\n",
    "            return self.l.pop(0)\n",
    "        return -1\n",
    "\n",
    "        \n",
    "\n",
    "    def popMiddle(self) -> int:\n",
    "        if len(self.l)>0 and len(self.l)%2!=0: \n",
    "            a = (len(self.l)//2) \n",
    "            return self.l.pop(a)\n",
    "        elif len(self.l)> 0 and len(self.l)%2==0: \n",
    "            a = (len(self.l)//2)-1\n",
    "            return self.l.pop(a)\n",
    "\n",
    "        return -1\n",
    "        \n",
    "\n",
    "    def popBack(self) -> int:\n",
    "        if len(self.l)>0 :\n",
    "            return self.l.pop()\n",
    "        return -1\n",
    "\n",
    "# Driver code    \n",
    "\n",
    "obj = FrontMiddleBackQueue()\n",
    "obj.pushFront(1)\n",
    "print(obj.l)\n",
    "obj.pushBack(2)\n",
    "print(obj.l)\n",
    "obj.pushMiddle(3)\n",
    "print(obj.l)\n",
    "obj.pushMiddle(4)\n",
    "print(obj.l)\n",
    "print(\"********\")\n",
    "param_4 = obj.popFront()\n",
    "param_5 = obj.popMiddle()\n",
    "param_6 = obj.popMiddle()\n",
    "param_7 = obj.popBack()\n",
    "param_8 = obj.popFront()\n",
    "\n",
    "print(param_4)\n",
    "print(param_5)\n",
    "print(param_6)\n",
    "print(param_7)\n",
    "print(param_8)\n",
    "print(obj.l)"
   ]
  },
  {
   "cell_type": "markdown",
   "metadata": {},
   "source": [
    "**Question 8**\n",
    "\n",
    "For a stream of integers, implement a data structure that checks if the last `k` integers parsed in the stream are **equal** to `value`.\n",
    "\n",
    "Implement the **DataStream** class:\n",
    "\n",
    "- `DataStream(int value, int k)` Initializes the object with an empty integer stream and the two integers `value` and `k`.\n",
    "- `boolean consec(int num)` Adds `num` to the stream of integers. Returns `true` if the last `k` integers are equal to `value`, and `false` otherwise. If there are less than `k` integers, the condition does not hold true, so returns `false`.\n",
    "\n",
    "**Example 1:**\n",
    "\n",
    "Input\n",
    "[\"DataStream\", \"consec\", \"consec\", \"consec\", \"consec\"]\n",
    "[[4, 3], [4], [4], [4], [3]]\n",
    "Output\n",
    "[null, false, false, true, false]\n",
    "\n",
    "Explanation\n",
    "DataStream dataStream = new DataStream(4, 3); //value = 4, k = 3\n",
    "dataStream.consec(4); // Only 1 integer is parsed, so returns False.\n",
    "dataStream.consec(4); // Only 2 integers are parsed.\n",
    "                      // Since 2 is less than k, returns False.\n",
    "dataStream.consec(4); // The 3 integers parsed are all equal to value, so returns True.\n",
    "dataStream.consec(3); // The last k integers parsed in the stream are [4,4,3].\n",
    "                      // Since 3 is not equal to value, it returns False."
   ]
  },
  {
   "cell_type": "code",
   "execution_count": 29,
   "metadata": {},
   "outputs": [
    {
     "name": "stdout",
     "output_type": "stream",
     "text": [
      "False\n"
     ]
    }
   ],
   "source": [
    "class DataStream:\n",
    "\n",
    "    def __init__(self, value: int, k: int):\n",
    "        self.count = 0 \n",
    "        self.value = value\n",
    "        self.k = k\n",
    "\n",
    "    def consec(self, num: int) -> bool:\n",
    "        if num == self.value:\n",
    "            self.count += 1\n",
    "        else: \n",
    "            self.count = 0 \n",
    "            \n",
    "        return self.count >= self.k\n",
    "    \n",
    "value = 4\n",
    "k = 3\n",
    "num = 4\n",
    "obj = DataStream(value, k)\n",
    "param_1 = obj.consec(num)\n",
    "\n",
    "print(param_1)"
   ]
  },
  {
   "cell_type": "code",
   "execution_count": 30,
   "metadata": {},
   "outputs": [
    {
     "data": {
      "text/plain": [
       "False"
      ]
     },
     "execution_count": 30,
     "metadata": {},
     "output_type": "execute_result"
    }
   ],
   "source": [
    "obj.consec(num)"
   ]
  },
  {
   "cell_type": "code",
   "execution_count": 31,
   "metadata": {},
   "outputs": [
    {
     "data": {
      "text/plain": [
       "True"
      ]
     },
     "execution_count": 31,
     "metadata": {},
     "output_type": "execute_result"
    }
   ],
   "source": [
    "obj.consec(num)"
   ]
  },
  {
   "cell_type": "code",
   "execution_count": 32,
   "metadata": {},
   "outputs": [
    {
     "data": {
      "text/plain": [
       "False"
      ]
     },
     "execution_count": 32,
     "metadata": {},
     "output_type": "execute_result"
    }
   ],
   "source": [
    "num = 3\n",
    "obj.consec(num)"
   ]
  }
 ],
 "metadata": {
  "kernelspec": {
   "display_name": "base",
   "language": "python",
   "name": "python3"
  },
  "language_info": {
   "codemirror_mode": {
    "name": "ipython",
    "version": 3
   },
   "file_extension": ".py",
   "mimetype": "text/x-python",
   "name": "python",
   "nbconvert_exporter": "python",
   "pygments_lexer": "ipython3",
   "version": "3.9.13"
  },
  "orig_nbformat": 4
 },
 "nbformat": 4,
 "nbformat_minor": 2
}
