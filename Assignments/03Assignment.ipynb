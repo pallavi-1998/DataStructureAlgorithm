{
 "cells": [
  {
   "attachments": {},
   "cell_type": "markdown",
   "metadata": {},
   "source": [
    "Question 1\n",
    "Given an integer array nums of length n and an integer target, find three integers\n",
    "in nums such that the sum is closest to the target.\n",
    "Return the sum of the three integers.\n",
    "\n",
    "You may assume that each input would have exactly one solution.\n",
    "\n",
    "Example 1:\n",
    "Input: nums = [-1,2,1,-4], target = 1\n",
    "Output: 2\n",
    "\n",
    "Explanation: The sum that is closest to the target is 2. (-1 + 2 + 1 = 2)."
   ]
  },
  {
   "cell_type": "code",
   "execution_count": 16,
   "metadata": {},
   "outputs": [
    {
     "data": {
      "text/plain": [
       "-15"
      ]
     },
     "execution_count": 16,
     "metadata": {},
     "output_type": "execute_result"
    }
   ],
   "source": [
    "def threeSumClosest(nums,target):\n",
    "        s=float('inf')\n",
    "        t=len(nums)\n",
    "        nums.sort()\n",
    "        for x in range(t-2):\n",
    "            i=x+1\n",
    "            j=t-1\n",
    "            while i<j:\n",
    "                s1=nums[x]+nums[i]+nums[j]\n",
    "                #print(x,i,j,'here')\n",
    "                if s1==target:\n",
    "                    return target\n",
    "                if abs(target-s)>abs(target-s1):\n",
    "                    #print(x,i,j,'-------',s1)\n",
    "                    s=s1\n",
    "                if s1<target:\n",
    "                    i+=1\n",
    "                else:\n",
    "                    j-=1\n",
    "        return s\n",
    "\n",
    "threeSumClosest([-1000,-5,-5,-5,-5,-5,-5,-1,-1,-1], -14)"
   ]
  },
  {
   "attachments": {},
   "cell_type": "markdown",
   "metadata": {},
   "source": [
    "Question 2\n",
    "Given an array nums of n integers, return an array of all the unique quadruplets\n",
    "[nums[a], nums[b], nums[c], nums[d]] such that:\n",
    "           ● 0 <= a, b, c, d < n\n",
    "           ● a, b, c, and d are distinct.\n",
    "           ● nums[a] + nums[b] + nums[c] + nums[d] == target\n",
    "\n",
    "You may return the answer in any order.\n",
    "\n",
    "Example 1:\n",
    "Input: nums = [1,0,-1,0,-2,2], target = 0\n",
    "Output: [[-2,-1,1,2],[-2,0,0,2],[-1,0,0,1]]"
   ]
  },
  {
   "cell_type": "code",
   "execution_count": 17,
   "metadata": {},
   "outputs": [
    {
     "data": {
      "text/plain": [
       "[[-2, -1, 1, 2], [-2, 0, 0, 2], [-1, 0, 0, 1]]"
      ]
     },
     "execution_count": 17,
     "metadata": {},
     "output_type": "execute_result"
    }
   ],
   "source": [
    "def fourSum(nums, target):\n",
    "        \"\"\"\n",
    "        :type nums: List[int]\n",
    "        :type target: int\n",
    "        :rtype: List[List[int]]\n",
    "        \"\"\"\n",
    "        def kSum(nums, target, k) :\n",
    "            res = []\n",
    "            \n",
    "            # If we have run out of numbers to add, return res.\n",
    "            if not nums:\n",
    "                return res\n",
    "            \n",
    "            # There are k remaining values to add to the sum. The \n",
    "            # average of these values is at least target // k.\n",
    "            average_value = target // k\n",
    "            \n",
    "            # We cannot obtain a sum of target if the smallest value\n",
    "            # in nums is greater than target // k or if the largest \n",
    "            # value in nums is smaller than target // k.\n",
    "            if average_value < nums[0] or nums[-1] < average_value:\n",
    "                return res\n",
    "            \n",
    "            if k == 2:\n",
    "                return twoSum(nums, target)\n",
    "    \n",
    "            for i in range(len(nums)):\n",
    "                if i == 0 or nums[i - 1] != nums[i]:\n",
    "                    for subset in kSum(nums[i + 1:], target - nums[i], k - 1):\n",
    "                        res.append([nums[i]] + subset)\n",
    "    \n",
    "            return res\n",
    "\n",
    "        def twoSum(nums, target):\n",
    "            res = []\n",
    "            s = set()\n",
    "    \n",
    "            for i in range(len(nums)):\n",
    "                if len(res) == 0 or res[-1][1] != nums[i]:\n",
    "                    if target - nums[i] in s:\n",
    "                        res.append([target - nums[i], nums[i]])\n",
    "                s.add(nums[i])\n",
    "    \n",
    "            return res\n",
    "\n",
    "        nums.sort()\n",
    "        return kSum(nums, target, 4)\n",
    "nums = [1,0,-1,0,-2,2]\n",
    "target = 0\n",
    "fourSum(nums,target)"
   ]
  },
  {
   "attachments": {},
   "cell_type": "markdown",
   "metadata": {},
   "source": [
    "**Question 3**\n",
    "A permutation of an array of integers is an arrangement of its members into a\n",
    "sequence or linear order.\n",
    "\n",
    "For example, for arr = [1,2,3], the following are all the permutations of arr:\n",
    "[1,2,3], [1,3,2], [2, 1, 3], [2, 3, 1], [3,1,2], [3,2,1].\n",
    "\n",
    "The next permutation of an array of integers is the next lexicographically greater\n",
    "permutation of its integer. More formally, if all the permutations of the array are\n",
    "sorted in one container according to their lexicographical order, then the next\n",
    "permutation of that array is the permutation that follows it in the sorted container.\n",
    "\n",
    "If such an arrangement is not possible, the array must be rearranged as the\n",
    "lowest possible order (i.e., sorted in ascending order).\n",
    "\n",
    "● For example, the next permutation of arr = [1,2,3] is [1,3,2].\n",
    "● Similarly, the next permutation of arr = [2,3,1] is [3,1,2].\n",
    "● While the next permutation of arr = [3,2,1] is [1,2,3] because [3,2,1] does not\n",
    "have a lexicographical larger rearrangement.\n",
    "\n",
    "Given an array of integers nums, find the next permutation of nums.\n",
    "The replacement must be in place and use only constant extra memory.\n",
    "\n",
    "**Example 1:**\n",
    "Input: nums = [1,2,3]\n",
    "Output: [1,3,2]\n",
    "\n",
    "**Algoritm**:\n",
    "1.  first pair of adjacent elements in the array that satisfy nums[k] < nums[k+1] from the right to end of the array. \n",
    "2. If such a pair does not exist, then the entire array is sorted in descending order, and we need to reverse the entire array to obtain the smallest possible permutation.\n",
    "\n",
    "3. Otherwise, it finds the smallest element nums[l] to the right of nums[k] such that nums[l] > nums[k]. \n",
    "We swap nums[k] and nums[l], \n",
    "\n",
    "4. then reverse the subarray starting at nums[k+1] to obtain the next lexicographic permutation of the array."
   ]
  },
  {
   "cell_type": "code",
   "execution_count": 18,
   "metadata": {},
   "outputs": [
    {
     "data": {
      "text/plain": [
       "[1, 5, 8, 4, 5, 6, 4, 1, 3, 7]"
      ]
     },
     "execution_count": 18,
     "metadata": {},
     "output_type": "execute_result"
    }
   ],
   "source": [
    "def next_permutation(nums):\n",
    "    n = len(nums)\n",
    "    k, l = n - 2, n - 1\n",
    "    while k >= 0 and nums[k] >= nums[k + 1]:\n",
    "        k -= 1\n",
    "    if k < 0:\n",
    "        nums.reverse()\n",
    "    else:\n",
    "        while l > k and nums[l] <= nums[k]:\n",
    "            l -= 1\n",
    "        nums[k], nums[l] = nums[l], nums[k]\n",
    "        nums[k + 1:n] = reversed(nums[k + 1:n])\n",
    "\n",
    "    return nums\n",
    "\n",
    "lst = [1,5,8,4,5,6,3,7,4,1]\n",
    "next_permutation(lst)\n",
    "    # TC = O(n)\n",
    "    # SC = O(1)"
   ]
  },
  {
   "attachments": {},
   "cell_type": "markdown",
   "metadata": {},
   "source": [
    "Question 4\n",
    "Given a sorted array of distinct integers and a target value, return the index if the\n",
    "target is found. If not, return the index where it would be if it were inserted in\n",
    "order.\n",
    "\n",
    "You must write an algorithm with O(log n) runtime complexity.\n",
    "\n",
    "Example 1:\n",
    "Input: nums = [1,3,5,6], target = 5\n",
    "Output: 2"
   ]
  },
  {
   "cell_type": "code",
   "execution_count": 19,
   "metadata": {},
   "outputs": [
    {
     "data": {
      "text/plain": [
       "4"
      ]
     },
     "execution_count": 19,
     "metadata": {},
     "output_type": "execute_result"
    }
   ],
   "source": [
    "def searchInsert(nums, target):\n",
    "    l = 0\n",
    "    r = len(nums) - 1\n",
    "    while l <= r:\n",
    "        mid = (l + r) // 2\n",
    "        if nums[mid] < target:\n",
    "            l = mid + 1\n",
    "        elif nums[mid] > target:\n",
    "            r = mid - 1\n",
    "        else:\n",
    "            return mid\n",
    "    return l\n",
    "\n",
    "searchInsert([1,3,5,6], 7)"
   ]
  },
  {
   "attachments": {},
   "cell_type": "markdown",
   "metadata": {},
   "source": [
    "\n",
    "Question 5\n",
    "You are given a large integer represented as an integer array digits, where each\n",
    "digits[i] is the ith digit of the integer. The digits are ordered from most significant\n",
    "to least significant in left-to-right order. The large integer does not contain any\n",
    "leading 0's.\n",
    "\n",
    "Increment the large integer by one and return the resulting array of digits.\n",
    "\n",
    "Example 1:\n",
    "Input: digits = [1,2,3]\n",
    "Output: [1,2,4]\n",
    "\n",
    "Explanation: The array represents the integer 123.\n",
    "Incrementing by one gives 123 + 1 = 124.\n",
    "Thus, the result should be [1,2,4]."
   ]
  },
  {
   "cell_type": "code",
   "execution_count": 20,
   "metadata": {},
   "outputs": [
    {
     "data": {
      "text/plain": [
       "[1, 2, 5]"
      ]
     },
     "execution_count": 20,
     "metadata": {},
     "output_type": "execute_result"
    }
   ],
   "source": [
    "def plusOne(digits):\n",
    "    digits=[str(i) for i in digits]\n",
    "    s=''.join(digits)\n",
    "    a=int(s)+1\n",
    "    l=list(str(a))\n",
    "    l=[int(i) for i in l]\n",
    "    return l\n",
    "\n",
    "plusOne([1,2,4])"
   ]
  },
  {
   "attachments": {},
   "cell_type": "markdown",
   "metadata": {},
   "source": [
    "Question 6\n",
    "Given a non-empty array of integers nums, every element appears twice except\n",
    "for one. Find that single one.\n",
    "\n",
    "You must implement a solution with a linear runtime complexity and use only\n",
    "constant extra space.\n",
    "\n",
    "Example 1:\n",
    "Input: nums = [2,2,1]\n",
    "Output: 1\n",
    "\n",
    "**Algorithm :**\n",
    "\n",
    "1. Initialize a variable c to 0. This variable will store the XOR of all the elements in the vector.\n",
    "2. Iterate through each element num in the vector.\n",
    "    - Update c by performing c = c ^ num. This XOR operation will cancel out the duplicate occurrences of the numbers, leaving only the number that appears only once.\n",
    "4. After the loop, the value of c will be the number that appears only once.\n",
    "5. Return c as the result."
   ]
  },
  {
   "cell_type": "code",
   "execution_count": 21,
   "metadata": {},
   "outputs": [
    {
     "data": {
      "text/plain": [
       "4"
      ]
     },
     "execution_count": 21,
     "metadata": {},
     "output_type": "execute_result"
    }
   ],
   "source": [
    "def singleNumber(nums):\n",
    "    n = len(nums)\n",
    "    c = 0\n",
    "    for i in range(n):\n",
    "        c = c ^ nums[i]\n",
    "    \n",
    "    return c\n",
    "\n",
    "singleNumber([1,1,2,3,2,4,3])"
   ]
  },
  {
   "attachments": {},
   "cell_type": "markdown",
   "metadata": {},
   "source": [
    "Question 7\n",
    "You are given an inclusive range [lower, upper] and a sorted unique integer array\n",
    "nums, where all elements are within the inclusive range.\n",
    "\n",
    "A number x is considered missing if x is in the range [lower, upper] and x is not in\n",
    "nums.\n",
    "\n",
    "Return the shortest sorted list of ranges that exactly covers all the missing\n",
    "numbers. That is, no element of nums is included in any of the ranges, and each\n",
    "missing number is covered by one of the ranges.\n",
    "\n",
    "Example 1:\n",
    "Input: nums = [0,1,3,50,75], lower = 0, upper = 99\n",
    "Output: [[2,2],[4,49],[51,74],[76,99]]\n",
    "\n",
    "Explanation: The ranges are:\n",
    "[2,2]\n",
    "[4,49]\n",
    "[51,74]\n",
    "[76,99]"
   ]
  },
  {
   "cell_type": "code",
   "execution_count": 22,
   "metadata": {},
   "outputs": [
    {
     "data": {
      "text/plain": [
       "['2', '4->49', '51->74', '76->99']"
      ]
     },
     "execution_count": 22,
     "metadata": {},
     "output_type": "execute_result"
    }
   ],
   "source": [
    "def findMissingRanges(nums, lower, upper) :\n",
    "    def getRange(lo: int, hi: int) -> str:\n",
    "      if lo == hi:\n",
    "        return str(lo)\n",
    "      return str(lo) + '->' + str(hi)\n",
    "\n",
    "    if not nums:\n",
    "      return [getRange(lower, upper)]\n",
    "\n",
    "    ans = []\n",
    "\n",
    "    if nums[0] > lower:\n",
    "      ans.append(getRange(lower, nums[0] - 1))\n",
    "\n",
    "    for prev, curr in zip(nums, nums[1:]):\n",
    "      if curr > prev + 1:\n",
    "        ans.append(getRange(prev + 1, curr - 1))\n",
    "\n",
    "    if nums[-1] < upper:\n",
    "      ans.append(getRange(nums[-1] + 1, upper))\n",
    "\n",
    "    return ans\n",
    "nums = [0,1,3,50,75]\n",
    "lower = 0\n",
    "upper = 99\n",
    "findMissingRanges(nums,lower, upper)"
   ]
  },
  {
   "cell_type": "code",
   "execution_count": 23,
   "metadata": {},
   "outputs": [
    {
     "ename": "SyntaxError",
     "evalue": "cannot assign to literal (1349570277.py, line 19)",
     "output_type": "error",
     "traceback": [
      "\u001b[1;36m  File \u001b[1;32m\"C:\\Users\\Pallavi Prajapati\\AppData\\Local\\Temp\\ipykernel_10620\\1349570277.py\"\u001b[1;36m, line \u001b[1;32m19\u001b[0m\n\u001b[1;33m    nums = [0,1,3,50,75], lower = 0, upper = 99\u001b[0m\n\u001b[1;37m            ^\u001b[0m\n\u001b[1;31mSyntaxError\u001b[0m\u001b[1;31m:\u001b[0m cannot assign to literal\n"
     ]
    }
   ],
   "source": [
    "def summaryRanges(nums):\n",
    "        ranges = []     \n",
    "        i = 0 \n",
    "        \n",
    "        while i < len(nums): \n",
    "            start = nums[i]  \n",
    "            while i + 1 < len(nums) and nums[i] + 1 == nums[i + 1]: \n",
    "                i += 1 \n",
    "            \n",
    "            if start != nums[i]: \n",
    "                ranges.append(str(start) + \"->\" + str(nums[i]))\n",
    "            else: \n",
    "                ranges.append(str(nums[i]))\n",
    "            \n",
    "            i += 1\n",
    "\n",
    "        return ranges\n",
    "\n",
    "nums = [0,1,3,50,75], lower = 0, upper = 99"
   ]
  },
  {
   "attachments": {},
   "cell_type": "markdown",
   "metadata": {},
   "source": [
    "Question 8\n",
    "Given an array of meeting time intervals where intervals[i] = [starti, endi],\n",
    "determine if a person could attend all meetings.\n",
    "\n",
    "Example 1:\n",
    "Input: intervals = [[0,30],[5,10],[15,20]]\n",
    "Output: false"
   ]
  },
  {
   "cell_type": "code",
   "execution_count": null,
   "metadata": {},
   "outputs": [
    {
     "data": {
      "text/plain": [
       "False"
      ]
     },
     "execution_count": 13,
     "metadata": {},
     "output_type": "execute_result"
    }
   ],
   "source": [
    "def canAttendMeetings(intervals):\n",
    "        \n",
    "    n = len(intervals)\n",
    "        \n",
    "    def overlap(a, b):\n",
    "        return min(a[1], b[1]) > max(a[0], b[0])\n",
    "        \n",
    "    for i in range(n):\n",
    "        for j in range(i):\n",
    "            if overlap(intervals[i], intervals[j]):\n",
    "                return False\n",
    "    return True\n",
    "\n",
    "intervals = [[0,30],[5,10],[15,20]]\n",
    "\n",
    "canAttendMeetings(intervals)"
   ]
  },
  {
   "cell_type": "code",
   "execution_count": null,
   "metadata": {},
   "outputs": [
    {
     "data": {
      "text/plain": [
       "False"
      ]
     },
     "execution_count": 14,
     "metadata": {},
     "output_type": "execute_result"
    }
   ],
   "source": [
    "def canAttendMeetings_1(intervals):    \n",
    "    n = len(intervals)\n",
    "    intervals.sort(key=lambda x:x[0]) # or just intervals.sort()\n",
    "    for i in range(len(intervals) - 1):\n",
    "        if intervals[i][1] > intervals[i + 1][0]:\n",
    "           return False\n",
    "    return True\n",
    "\n",
    "intervals = [[0,30],[5,10],[15,20]]\n",
    "\n",
    "canAttendMeetings_1(intervals)"
   ]
  }
 ],
 "metadata": {
  "kernelspec": {
   "display_name": "base",
   "language": "python",
   "name": "python3"
  },
  "language_info": {
   "codemirror_mode": {
    "name": "ipython",
    "version": 3
   },
   "file_extension": ".py",
   "mimetype": "text/x-python",
   "name": "python",
   "nbconvert_exporter": "python",
   "pygments_lexer": "ipython3",
   "version": "3.9.13"
  },
  "orig_nbformat": 4
 },
 "nbformat": 4,
 "nbformat_minor": 2
}
