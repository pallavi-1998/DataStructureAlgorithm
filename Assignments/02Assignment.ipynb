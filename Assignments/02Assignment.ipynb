{
 "cells": [
  {
   "attachments": {},
   "cell_type": "markdown",
   "metadata": {},
   "source": [
    "Question 1\n",
    "Given an integer array nums of 2n integers, group these integers into n pairs (a1, b1), (a2, b2),\n",
    "..., (an, bn) such that the sum of min(ai, bi) for all i is maximized. Return the maximized sum.\n",
    "Example 1:\n",
    "Input: nums = [1,4,3,2]\n",
    "Output: 4\n",
    "Explanation: All possible pairings (ignoring the ordering of elements) are:\n",
    "1. (1, 4), (2, 3) -> min(1, 4) + min(2, 3) = 1 + 2 = 3\n",
    "2. (1, 3), (2, 4) -> min(1, 3) + min(2, 4) = 1 + 2 = 3\n",
    "3. (1, 2), (3, 4) -> min(1, 2) + min(3, 4) = 1 + 3 = 4\n",
    "So the maximum possible sum is 4\n",
    "\n",
    "**Algotithm:**\n",
    "1. Sort the list nums.\n",
    "2. Initialize the answer variable maxSum as 0.\n",
    "3. Iterate over the list nums and add the elements at even indices to maxSum.\n",
    "4. Return maxSum."
   ]
  },
  {
   "cell_type": "code",
   "execution_count": 1,
   "metadata": {},
   "outputs": [
    {
     "data": {
      "text/plain": [
       "9"
      ]
     },
     "execution_count": 1,
     "metadata": {},
     "output_type": "execute_result"
    }
   ],
   "source": [
    "# sort the given list using the built-in sorting function. In the sorted list we will pair the first two elements then the next two elements and so on.\n",
    "# , the first element (at index 0) will be added to the answer maxSum as it is the minimum of the first two elements. Similarly, the third \n",
    "# element in the list (at index 2) will be added, and so on. Hence, we will only sum the elements located at the even indices.\n",
    "\n",
    "def arrayPairSum(nums):\n",
    "        \"\"\"\n",
    "        :type nums: List[int]\n",
    "        :rtype: int\n",
    "        \"\"\"\n",
    "        n = len(nums)\n",
    "        nums.sort()\n",
    "        maxSum = 0\n",
    "        for i in range(n):\n",
    "            if i%2 == 0:\n",
    "                maxSum += nums[i]\n",
    "\n",
    "        return maxSum\n",
    "\n",
    "n = [6,2,6,5,1,2]\n",
    "arrayPairSum(n)\n",
    "\n",
    "# tc = O(nlogn) sc = O(1)"
   ]
  },
  {
   "attachments": {},
   "cell_type": "markdown",
   "metadata": {},
   "source": [
    "Question 2              \n",
    "Alice has n candies, where the ith candy is of type candyType[i]. Alice noticed that she started\n",
    "to gain weight, so she visited a doctor.\n",
    "The doctor advised Alice to only eat n / 2 of the candies she has (n is always even). Alice\n",
    "likes her candies very much, and she wants to eat the maximum number of different types of\n",
    "candies while still following the doctor's advice.\n",
    "Given the integer array candyType of length n, return the maximum number of different types\n",
    "of candies she can eat if she only eats n / 2 of them.\n",
    "Example 1:\n",
    "Input: candyType = [1,1,2,2,3,3]\n",
    "Output: 3\n",
    "Explanation: Alice can only eat 6 / 2 = 3 candies. Since there are only 3 types, she can eat one\n",
    "of each type.\n",
    "\n",
    "**Algorithm:**\n",
    "\n"
   ]
  },
  {
   "cell_type": "code",
   "execution_count": 7,
   "metadata": {},
   "outputs": [
    {
     "name": "stdout",
     "output_type": "stream",
     "text": [
      "[1, 2, 3] 3\n",
      "[6] 1\n",
      "[2, 3, 4] 3\n"
     ]
    },
    {
     "data": {
      "text/plain": [
       "2"
      ]
     },
     "execution_count": 7,
     "metadata": {},
     "output_type": "execute_result"
    }
   ],
   "source": [
    "#    tc = O(n) sc = O(n)\n",
    "def distributeCandies(candytype):\n",
    "    count = 0\n",
    "    hset = []\n",
    "    for i in range(len(candytype)):\n",
    "        if candytype[i] not in hset:\n",
    "            count += 1\n",
    "            hset.append(candytype[i])\n",
    "        \n",
    "            \n",
    "    # print(hset, count)\n",
    "    return min(count, len(candytype)//2)\n",
    "\n",
    "distributeCandies([1,1,2,2,3,3])\n",
    "distributeCandies([6,6,6,6])\n",
    "distributeCandies([2,2,3,4])\n"
   ]
  },
  {
   "cell_type": "code",
   "execution_count": 10,
   "metadata": {},
   "outputs": [
    {
     "name": "stdout",
     "output_type": "stream",
     "text": [
      "3\n",
      "1\n",
      "2\n"
     ]
    }
   ],
   "source": [
    "import heapq\n",
    "def distributeCandies_1(candyType):\n",
    "    heapq.heapify(candyType)\n",
    "        # We need to save this now, as we're going to be modifying candyType.\n",
    "    maximum_candies_allowed = len(candyType) // 2\n",
    "    unique_candies = 0\n",
    "        # And now, remove elements off the heap until \n",
    "    while candyType and unique_candies < maximum_candies_allowed:\n",
    "            # Take a candy off, we'll be checking if it is unique.\n",
    "        candy = heapq.heappop(candyType)\n",
    "            # If the next candy is not the same as this one, or there isn't a next\n",
    "            # candy, then this candy must be unique.\n",
    "        if not candyType or candyType[0] != candy:\n",
    "            unique_candies += 1\n",
    "        # Like before, the answer is the minimum out of the number of unique candies, and \n",
    "        # half the length of the candyType array.\n",
    "    return min(unique_candies, maximum_candies_allowed)\n",
    "\n",
    "print(distributeCandies_1([1,1,2,2,3,3]))\n",
    "print(distributeCandies_1([6,6,6,6]))\n",
    "print(distributeCandies_1([2,2,3,4]))\n",
    "\n",
    "# tc = O(nlogn) \n",
    "# sc = O(1)\n"
   ]
  },
  {
   "attachments": {},
   "cell_type": "markdown",
   "metadata": {},
   "source": [
    "**A subsequence of an array is a sequence that can be derived from the array by deleting some\n",
    "or no elements without changing the order of the remaining elements**"
   ]
  },
  {
   "attachments": {},
   "cell_type": "markdown",
   "metadata": {},
   "source": [
    "Question 3\n",
    "We define a harmonious array as an array where the difference between its maximum value\n",
    "and its minimum value is exactly 1.\n",
    "Given an integer array nums, return the length of its longest harmonious subsequence\n",
    "among all its possible subsequences.\n",
    ".\n",
    "Example 1:\n",
    "Input: nums = [1,3,2,2,5,2,3,7]\n",
    "Output: 5\n",
    "Explanation: The longest harmonious subsequence is [3,2,2,2,3].\n",
    "\n",
    "**Algorithm:**\n",
    "\n",
    "1. creates a hmap to keep track of the frequency of each element in the input array nums.\n",
    "2. iterate through hmap and  checks if there is another element in the dictionary whose value is one greater than the current element. If such element exist, it finds the max_length of the harmonious sub sequence by adding the value of current element and the value of next element in the dictionary and compares it with the previous max_length.\n",
    "3. return max_length"
   ]
  },
  {
   "cell_type": "code",
   "execution_count": 12,
   "metadata": {},
   "outputs": [
    {
     "name": "stdout",
     "output_type": "stream",
     "text": [
      "5\n",
      "0\n",
      "2\n"
     ]
    }
   ],
   "source": [
    "def harmonious_subseq(nums):\n",
    "        \n",
    "    hmap = dict()\n",
    "    for i in nums:\n",
    "        hmap[i] = hmap.get(i,0) + 1\n",
    "    max_len = 0\n",
    "\n",
    "    for key in hmap:\n",
    "        if key + 1 in hmap:\n",
    "            max_len = max(max_len,hmap[key]+hmap[key + 1])\n",
    "        \n",
    "    return max_len\n",
    "\n",
    "# tc = O(n) \n",
    "# sc = O(n)\n",
    "\n",
    "print(harmonious_subseq([1,3,2,2,5,2,3,7]))\n",
    "print(harmonious_subseq([1,1,1,1]))\n",
    "print(harmonious_subseq([1,2,3,4]))"
   ]
  },
  {
   "attachments": {},
   "cell_type": "markdown",
   "metadata": {},
   "source": [
    "Question 4\n",
    "You have a long flowerbed in which some of the plots are planted, and some are not.\n",
    "However, flowers cannot be planted in adjacent plots.\n",
    "Given an integer array flowerbed containing 0's and 1's, where 0 means empty and 1 means\n",
    "not empty, and an integer n, return true if n new flowers can be planted in the flowerbed\n",
    "without violating the no-adjacent-flowers rule and false otherwise.\n",
    "Example 1:\n",
    "Input: flowerbed = [1,0,0,0,1], n = 1\n",
    "Output: true"
   ]
  },
  {
   "cell_type": "code",
   "execution_count": 17,
   "metadata": {},
   "outputs": [
    {
     "name": "stdout",
     "output_type": "stream",
     "text": [
      "False\n"
     ]
    }
   ],
   "source": [
    "def canPlaceFlowers(flowerbed, n):\n",
    "        count = 0\n",
    "        size = len(flowerbed)\n",
    "        for i in range(size):\n",
    "            if flowerbed[i] == 0:\n",
    "                # Check if the left and right plots are empty.\n",
    "                left_empty_plot = (i == 0) or (flowerbed[i - 1] == 0)\n",
    "                right_empty_plot = (i == (size-1)) or (flowerbed[i+1] == 0)\n",
    "\n",
    "                # If both plots are empty, we can plant a flower here.\n",
    "                if left_empty_plot and right_empty_plot:\n",
    "                    flowerbed[i] = 1\n",
    "                    count += 1\n",
    "\n",
    "                    if count >= n:\n",
    "                        return True\n",
    "        \n",
    "        return count >= n\n",
    "\n",
    "print(canPlaceFlowers([[1,0,0,0,1]], 1))\n",
    "print(canPlaceFlowers([[1,0,0,0,1]], 2))\n",
    "\n",
    "# tc = O(n) \n",
    "# sc = O(1)"
   ]
  },
  {
   "attachments": {},
   "cell_type": "markdown",
   "metadata": {},
   "source": [
    "Question 5\n",
    "Given an integer array nums, find three numbers whose product is maximum and return the\n",
    "maximum product.\n",
    "Example 1:\n",
    "Input: nums = [1,2,3]\n",
    "Output: 6"
   ]
  },
  {
   "cell_type": "code",
   "execution_count": 18,
   "metadata": {},
   "outputs": [
    {
     "name": "stdout",
     "output_type": "stream",
     "text": [
      "6\n",
      "24\n",
      "-6\n"
     ]
    }
   ],
   "source": [
    "def maximumProduct(nums):\n",
    "        n = len(nums)\n",
    "        nums.sort()\n",
    "        return max(nums[0] * nums[1] * nums[n - 1], nums[n-3] * nums[n - 2] * nums[n-1])\n",
    "\n",
    "print(maximumProduct([1,2,3]))\n",
    "print(maximumProduct([1,2,3,4]))\n",
    "print(maximumProduct([-1,-2,-3]))\n",
    "\n",
    "# tc = O(nlogn)\n",
    "# sc = O(1)"
   ]
  },
  {
   "attachments": {},
   "cell_type": "markdown",
   "metadata": {},
   "source": [
    "Question 6\n",
    "Given an array of integers nums which is sorted in ascending order, and an integer target,\n",
    "write a function to search target in nums. If target exists, then return its index. Otherwise,\n",
    "return -1.\n",
    "You must write an algorithm with O(log n) runtime complexity.\n",
    "Input: nums = [-1,0,3,5,9,12], target = 9\n",
    "Output: 4\n",
    "Explanation: 9 exists in nums and its index is 4"
   ]
  },
  {
   "cell_type": "code",
   "execution_count": 20,
   "metadata": {},
   "outputs": [
    {
     "data": {
      "text/plain": [
       "4"
      ]
     },
     "execution_count": 20,
     "metadata": {},
     "output_type": "execute_result"
    }
   ],
   "source": [
    "def search(nums,target):\n",
    "        end = len(nums) - 1\n",
    "        start = 0\n",
    "\n",
    "        while start <= end:\n",
    "            mid = (start + end) // 2\n",
    "            if nums[mid] == target:\n",
    "                return mid\n",
    "            elif nums[mid] < target: # move right of array from mid\n",
    "                start = mid + 1\n",
    "            else:        # move left of array from mid\n",
    "                end = mid - 1\n",
    "\n",
    "        return -1\n",
    "\n",
    "search([-1,0,3,5,9,12], 9)"
   ]
  },
  {
   "attachments": {},
   "cell_type": "markdown",
   "metadata": {},
   "source": [
    "Question 7\n",
    "An array is monotonic if it is either monotone increasing or monotone decreasing.\n",
    "An array nums is monotone increasing if for all i <= j, nums[i] <= nums[j]. An array nums is\n",
    "monotone decreasing if for all i <= j, nums[i] >= nums[j].\n",
    "Given an integer array nums, return true if the given array is monotonic, or false otherwise.\n",
    "Example 1:\n",
    "Input: nums = [1,2,2,3]\n",
    "Output: true\n",
    "\n",
    "**Algorithm**\n",
    "\n",
    "1. Keep track of store, equal to the first non-zero comparison seen (if it exists.) If we see the opposite comparison, the answer is False.\n",
    "\n",
    "2. Otherwise, every comparison was (necessarily) in the set {−1,0}\\{-1, 0\\}{−1,0}, or every comparison was in the set {0,1}\\{0, 1\\}{0,1}, and therefore the array is monotonic.\n",
    "\n"
   ]
  },
  {
   "cell_type": "code",
   "execution_count": 21,
   "metadata": {},
   "outputs": [
    {
     "data": {
      "text/plain": [
       "True"
      ]
     },
     "execution_count": 21,
     "metadata": {},
     "output_type": "execute_result"
    }
   ],
   "source": [
    "\n",
    "def isMonotonic(A):\n",
    "        increasing = decreasing = True\n",
    "\n",
    "        for i in range(len(A) - 1):\n",
    "            if A[i] > A[i+1]:\n",
    "                increasing = False\n",
    "            if A[i] < A[i+1]:\n",
    "                decreasing = False\n",
    "\n",
    "        return increasing or decreasing\n",
    "\n",
    "isMonotonic([1,2,2,3])"
   ]
  },
  {
   "cell_type": "code",
   "execution_count": 22,
   "metadata": {},
   "outputs": [
    {
     "data": {
      "text/plain": [
       "True"
      ]
     },
     "execution_count": 22,
     "metadata": {},
     "output_type": "execute_result"
    }
   ],
   "source": [
    "isMonotonic([6,5,4,4])"
   ]
  },
  {
   "attachments": {},
   "cell_type": "markdown",
   "metadata": {},
   "source": [
    "Question 8\n",
    "You are given an integer array nums and an integer k.\n",
    "In one operation, you can choose any index i where 0 <= i < nums.length and change nums[i]\n",
    "to nums[i] + x where x is an integer from the range [-k, k]. You can apply this operation at\n",
    "most once for each index i.\n",
    "The score of nums is the difference between the maximum and minimum elements in nums.\n",
    "Return the minimum score of nums after applying the mentioned operation at most once for\n",
    "each index in it.\n",
    "Example 1:\n",
    "Input: nums = [1], k = 0\n",
    "Output: 0\n",
    "Explanation: The score is max(nums) - min(nums) = 1 - 1 = 0."
   ]
  },
  {
   "cell_type": "code",
   "execution_count": 24,
   "metadata": {},
   "outputs": [
    {
     "data": {
      "text/plain": [
       "0"
      ]
     },
     "execution_count": 24,
     "metadata": {},
     "output_type": "execute_result"
    }
   ],
   "source": [
    "def smallestRangeI(nums, k):\n",
    "        \n",
    "        return max(max(nums) - min(nums) - 2 * k, 0)\n",
    "\n",
    "\n",
    "smallestRangeI([1,3,6], 3)"
   ]
  },
  {
   "cell_type": "code",
   "execution_count": 25,
   "metadata": {},
   "outputs": [
    {
     "data": {
      "text/plain": [
       "0"
      ]
     },
     "execution_count": 25,
     "metadata": {},
     "output_type": "execute_result"
    }
   ],
   "source": [
    "smallestRangeI([1], 0)"
   ]
  },
  {
   "cell_type": "code",
   "execution_count": 26,
   "metadata": {},
   "outputs": [
    {
     "data": {
      "text/plain": [
       "6"
      ]
     },
     "execution_count": 26,
     "metadata": {},
     "output_type": "execute_result"
    }
   ],
   "source": [
    "smallestRangeI([0,10], 2)"
   ]
  }
 ],
 "metadata": {
  "kernelspec": {
   "display_name": "base",
   "language": "python",
   "name": "python3"
  },
  "language_info": {
   "codemirror_mode": {
    "name": "ipython",
    "version": 3
   },
   "file_extension": ".py",
   "mimetype": "text/x-python",
   "name": "python",
   "nbconvert_exporter": "python",
   "pygments_lexer": "ipython3",
   "version": "3.9.13"
  },
  "orig_nbformat": 4
 },
 "nbformat": 4,
 "nbformat_minor": 2
}
