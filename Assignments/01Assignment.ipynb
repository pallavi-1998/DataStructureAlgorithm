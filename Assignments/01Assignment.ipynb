{
 "cells": [
  {
   "attachments": {},
   "cell_type": "markdown",
   "metadata": {},
   "source": [
    "\n",
    "**Q1.** Given an array of integers nums and an integer target, return indices of the two numbers such that they add up to target.\n",
    "\n",
    "You may assume that each input would have exactly one solution, and you may not use the same element twice.\n",
    "\n",
    "You can return the answer in any order.\n",
    "\n",
    "**Example:**\n",
    "Input: nums = [2,7,11,15], target = 9\n",
    "Output0 [0,1]\n",
    "\n",
    "**Explanation:** Because nums[0] + nums[1] == 9, we return [0, 1]\n",
    "\n",
    "\n",
    "**Algorithm:**\n",
    "1. create a hashmap to store elements of arr with index\n",
    "2. Traverse once through the array\n",
    "3. if complement = target - arr[i] found in hashmap\n",
    "4. return the index\n",
    "5. if not found in hasmap do entry in it"
   ]
  },
  {
   "cell_type": "code",
   "execution_count": null,
   "metadata": {},
   "outputs": [],
   "source": [
    "# twoSum Problem\n",
    "\n",
    "class Task1:\n",
    "\n",
    "    def bruteforce(self, nums, target):\n",
    "        n = len(nums)\n",
    "        j = 0\n",
    "        for i in range(n):\n",
    "            # for j in range(i+1,n):\n",
    "                j += 1\n",
    "                if nums[i] + nums[j] == target:\n",
    "                    return([i,j])\n",
    "                \n",
    "    # TC = O(n^2) \n",
    "    # SC = O(1)\n",
    "\n",
    "    def twoSum(self, nums, target):\n",
    "        n = len(nums)\n",
    "        hashmap = {}\n",
    "        \n",
    "        for i in range(n):\n",
    "            complement = target - nums[i]\n",
    "            if complement in hashmap:\n",
    "                return [i, hashmap[complement]]\n",
    "        \n",
    "            hashmap[nums[i]] = i\n",
    "\n",
    "\n",
    "    #   TC = O(n)\n",
    "    #   SC = O(n) so as to store hashmap\n",
    "\n",
    "\n",
    "\n",
    "task1 = Task1()\n",
    "l1 = [2,7,11,15]\n",
    "res = task1.bruteforce(l1, 17)\n",
    "\n",
    "print(res)\n"
   ]
  },
  {
   "attachments": {},
   "cell_type": "markdown",
   "metadata": {},
   "source": [
    "**Q2.** Given an integer array nums and an integer val, remove all occurrences of val in nums in-place. The order of the elements may be changed. Then return the number of elements in nums which are not equal to val.\n",
    "\n",
    "Consider the number of elements in nums which are not equal to val be k, to get accepted, you need to do the following things:\n",
    "\n",
    "- Change the array nums such that the first k elements of nums contain the elements which are not equal to val. The remaining elements of nums are not important as well as the size of nums.\n",
    "- Return k.\n",
    "\n",
    "**Example :**\n",
    "Input: nums = [3,2,2,3], val = 3\n",
    "Output: 2, nums = [2,2,_*,_*]\n",
    "\n",
    "**Explanation:** Your function should return k = 2, with the first two elements of nums being 2. It does not matter what you leave beyond the returned k (hence they are underscores)\n",
    "\n",
    "**Algorithm:**\n",
    "\n",
    "The approach taken here is to keep a counter variable count for keeping track of elements other than val and then loop through all the elements of the array. For each element, if it's not equal to val, it is placed at index count of the array, and count is incremented.\n",
    "\n",
    "Finally, the length of the new array is equal to count. This approach modifies the input array in-place without using any additional space.\n",
    "\n",
    "\n"
   ]
  },
  {
   "cell_type": "code",
   "execution_count": 8,
   "metadata": {},
   "outputs": [
    {
     "name": "stdout",
     "output_type": "stream",
     "text": [
      "(5, [0, 1, 3, 0, 4])\n"
     ]
    }
   ],
   "source": [
    "class Task2(object):\n",
    "\n",
    "    def removeElement(self, nums, val):\n",
    "        \"\"\"\n",
    "        :type nums: List[int]\n",
    "        :type val: int\n",
    "        :rtype: int\n",
    "        \"\"\"\n",
    "        n = len(nums)\n",
    "        count = 0\n",
    "        \n",
    "        for i in range(n):\n",
    "            # print(nums[i])\n",
    "            if nums[i] != val:\n",
    "                nums[count] = nums[i]\n",
    "                count += 1\n",
    "        return count,nums[0:count]\n",
    "\n",
    "l2 = [0,1,2,2,3,0,4,2]\n",
    "task2 = Task2()\n",
    "res = task2.removeElement(l2, 2)\n",
    "print(res)\n",
    "\n",
    "# TC = O(n)\n",
    "# SC = O(1)"
   ]
  },
  {
   "attachments": {},
   "cell_type": "markdown",
   "metadata": {},
   "source": [
    "**Q3.** Given a sorted array of distinct integers and a target value, return the index if the target is found. If not, return the index where it would be if it were inserted in order.\n",
    "\n",
    "You must write an algorithm with O(log n) runtime complexity.\n",
    "\n",
    "**Example 1:**\n",
    "Input: nums = [1,3,5,6], target = 5\n",
    "\n",
    "Output: 2\n",
    "\n",
    "**Algorithm:**\n",
    "\n",
    "1. Initialize the start = 0 and end = len(arr) - 1.\n",
    "2. If there are elements in the range [start, end], \n",
    "the middle index mid = (left + right) / 2 and compare the middle value nums[mid] with target:\n",
    "    1. If nums[mid] = target, return mid.\n",
    "    2. If nums[mid] < target, let start = mid + 1 and repeat step 2.\n",
    "    3. If nums[mid] > target, let end = mid - 1 and repeat step 2.\n",
    "3. We finish the loop without finding target, return -1."
   ]
  },
  {
   "cell_type": "code",
   "execution_count": 17,
   "metadata": {},
   "outputs": [
    {
     "name": "stdout",
     "output_type": "stream",
     "text": [
      "-1\n"
     ]
    }
   ],
   "source": [
    "class Task3:\n",
    "    def bruteforce(self, arr,target):\n",
    "        indx = 0\n",
    "        for i in range(len(arr)):\n",
    "            if arr[i] == target:\n",
    "                return i\n",
    "            if arr[i] < target:\n",
    "                indx = i+1\n",
    "        return indx\n",
    "    \n",
    "    # TC = O(n) SC = O(1)\n",
    "\n",
    "    def binarySearch(self, arr, target):\n",
    "        end = len(arr) - 1\n",
    "        start = 0\n",
    "\n",
    "        while start <= end:\n",
    "            mid = (start + end) // 2\n",
    "            if arr[mid] == target:\n",
    "                return mid\n",
    "            elif arr[mid] < target: # move right of array from mid\n",
    "                start = mid + 1\n",
    "            else:        # move left of array from mid\n",
    "                end = mid - 1\n",
    "\n",
    "        return -1\n",
    "\n",
    "            \n",
    "\n",
    "\n",
    "l3 = [-1,0,3,5,9,12]\n",
    "task3 = Task3()\n",
    "res = task3.binarySearch(l3, 13)\n",
    "print(res)"
   ]
  },
  {
   "attachments": {},
   "cell_type": "markdown",
   "metadata": {},
   "source": [
    "**Q4.** You are given a large integer represented as an integer array digits, where each digits[i] is the ith digit of the integer. The digits are ordered from most significant to least significant in left-to-right order. The large integer does not contain any leading 0's.\n",
    "\n",
    "Increment the large integer by one and return the resulting array of digits.\n",
    "\n",
    "**Example 1:**\n",
    "Input: digits = [1,2,3]\n",
    "Output: [1,2,4]\n",
    "\n",
    "**Explanation:** The array represents the integer 123.\n",
    "\n",
    "Incrementing by one gives 123 + 1 = 124.\n",
    "Thus, the result should be [1,2,4].\n",
    "\n",
    "**Algorithm**:\n",
    "1. covert the list to string\n",
    "2. add 1 to digits\n",
    "3. return the result as a list"
   ]
  },
  {
   "cell_type": "code",
   "execution_count": 3,
   "metadata": {},
   "outputs": [
    {
     "data": {
      "text/plain": [
       "[1, 3, 0]"
      ]
     },
     "execution_count": 3,
     "metadata": {},
     "output_type": "execute_result"
    }
   ],
   "source": [
    "def plusOne(digits):\n",
    "    digits=[str(i) for i in digits]\n",
    "    s=''.join(digits)\n",
    "    a=int(s)+1\n",
    "    l=list(str(a))\n",
    "    l=[int(i) for i in l]\n",
    "    return l\n",
    "\n",
    "digits = [1,2,9]\n",
    "plusOne(digits)\n",
    "\n",
    "# TC = O(n)\n",
    "# SC = O(n)"
   ]
  },
  {
   "attachments": {},
   "cell_type": "markdown",
   "metadata": {},
   "source": [
    "\n",
    " **Q5.** You are given two integer arrays nums1 and nums2, sorted in non-decreasing order, and two integers m and n, representing the number of elements in nums1 and nums2 respectively.\n",
    "\n",
    "Merge nums1 and nums2 into a single array sorted in non-decreasing order.\n",
    "\n",
    "The final sorted array should not be returned by the function, but instead be stored inside the array nums1. To accommodate this, nums1 has a length of m + n, where the first m elements denote the elements that should be merged, and the last n elements are set to 0 and should be ignored. nums2 has a length of n.\n",
    "\n",
    "**Example 1:**\n",
    "Input: nums1 = [1,2,3,0,0,0], m = 3, nums2 = [2,5,6], n = 3\n",
    "Output: [1,2,2,3,5,6]\n",
    "\n",
    "**Explanation:** The arrays we are merging are [1,2,3] and [2,5,6].\n",
    "The result of the merge is [1,2,2,3,5,6] with the underlined elements coming from nums1.\n",
    "\n",
    "**Algorithm: TWo Pointer**\n",
    "1. pointers i and j, initialized to m-1 and n-1, respectively. \n",
    "2. another pointer k initialized to m+n-1, which will be used to keep track of the position in nums1 where we will be placing the larger element. 3. start iterating from the end of the arrays i and j, and compare the elements at these positions. We will place the larger element in nums1 at position k, and decrement the corresponding pointer i or j accordingly. We will continue doing this until we have iterated through all the elements in nums2. If there are still elements left in nums1, we don't need to do anything because they are already in their correct place."
   ]
  },
  {
   "cell_type": "code",
   "execution_count": 7,
   "metadata": {},
   "outputs": [
    {
     "data": {
      "text/plain": [
       "[1, 2, 2, 3, 5, 6]"
      ]
     },
     "execution_count": 7,
     "metadata": {},
     "output_type": "execute_result"
    }
   ],
   "source": [
    "def merge(nums1, m, nums2, n):\n",
    "    \"\"\"\n",
    "    :type nums1: List[int]\n",
    "    :type m: int\n",
    "    :type nums2: List[int]\n",
    "    :type n: int\n",
    "    :rtype: None Do not return anything, modify nums1 in-place instea\n",
    "    \"\"\"\n",
    "    # l = m + n\n",
    "    # j = 0\n",
    "    # for i in range(m,l):\n",
    "    #     nums1[i] = nums2[j]\n",
    "    #     j += 1\n",
    "\n",
    "    # nums1.sort()\n",
    "    i = m - 1\n",
    "    j = n - 1\n",
    "    k = m + n - 1\n",
    "        \n",
    "    while j >= 0:\n",
    "        if i >= 0 and nums1[i] > nums2[j]:\n",
    "            nums1[k] = nums1[i]\n",
    "            i -= 1\n",
    "        else:\n",
    "            nums1[k] = nums2[j]\n",
    "            j -= 1\n",
    "        k -= 1\n",
    "\n",
    "    return nums1\n",
    "\n",
    "\n",
    "nums1 = [1,2,3,0,0,0]\n",
    "m ,n = 3, 3\n",
    "nums2 = [2,5,6]\n",
    "merge(nums1, m,nums2, n)\n",
    "\n"
   ]
  },
  {
   "attachments": {},
   "cell_type": "markdown",
   "metadata": {},
   "source": [
    "**Q6.** Given an integer array nums, return true if any value appears at least twice in the array, and return false if every element is distinct.\n",
    "\n",
    "**Example 1:**\n",
    "Input: nums = [1,2,3,1]\n",
    "\n",
    "Output: true\n",
    "\n"
   ]
  },
  {
   "cell_type": "code",
   "execution_count": 8,
   "metadata": {},
   "outputs": [
    {
     "data": {
      "text/plain": [
       "True"
      ]
     },
     "execution_count": 8,
     "metadata": {},
     "output_type": "execute_result"
    }
   ],
   "source": [
    "def containsDuplicate(nums):\n",
    "    hset = set()\n",
    "\n",
    "    for ele in nums:\n",
    "        if ele in hset:\n",
    "            return True\n",
    "        else:\n",
    "            hset.add(ele)\n",
    "\n",
    "n = [1,1,1,3,3,4,3,2,4,2]\n",
    "\n",
    "containsDuplicate(n)\n",
    "\n",
    "##TC = O(n) \n",
    "# SC = O(n)"
   ]
  },
  {
   "attachments": {},
   "cell_type": "markdown",
   "metadata": {},
   "source": [
    "**Q7.** Given an integer array nums, move all 0's to the end of it while maintaining the relative order of the nonzero elements.\n",
    "\n",
    "Note that you must do this in-place without making a copy of the array.\n",
    "\n",
    "**Example 1:**\n",
    "Input: nums = [0,1,0,3,12]\n",
    "Output: [1,3,12,0,0]\n",
    "\n",
    "**Algorithm:**\n",
    "1. If the current element is not 0, then we need to append it just in front of last non 0 element we found. \n",
    "2. After we have finished processing new elements, all the non-zero elements are already at beginning of array. We just need to fill remaining array with 0's."
   ]
  },
  {
   "cell_type": "code",
   "execution_count": 13,
   "metadata": {},
   "outputs": [
    {
     "data": {
      "text/plain": [
       "[1, 3, 12, 0, 0]"
      ]
     },
     "execution_count": 13,
     "metadata": {},
     "output_type": "execute_result"
    }
   ],
   "source": [
    "def moveZeros(nums):\n",
    "    p1 = 0\n",
    "    n = len(nums)\n",
    "    for i in range(n):\n",
    "        if nums[i] != 0:\n",
    "            nums[p1] = nums[i]\n",
    "            p1 += 1\n",
    "           \n",
    "    for i in range(p1, n):\n",
    "        nums[i] = 0\n",
    "    \n",
    "    return nums\n",
    "            \n",
    "moveZeros([0,1,0,3,12])\n",
    "\n",
    "# TC = O(n)\n",
    "# SC = O(1)\n"
   ]
  },
  {
   "attachments": {},
   "cell_type": "markdown",
   "metadata": {},
   "source": [
    "**Q8.** You have a set of integers s, which originally contains all the numbers from 1 to n. Unfortunately, due to some error, one of the numbers in s got duplicated to another number in the set, which results in repetition of one number and loss of another number.\n",
    "\n",
    "You are given an integer array nums representing the data status of this set after the error.\n",
    "\n",
    "Find the number that occurs twice and the number that is missing and return them in the form of an array.\n",
    "\n",
    "**Example 1:**\n",
    "Input: nums = [1,2,2,4]\n",
    "Output: [2,3]\n"
   ]
  },
  {
   "cell_type": "code",
   "execution_count": 15,
   "metadata": {},
   "outputs": [
    {
     "data": {
      "text/plain": [
       "[2, 3]"
      ]
     },
     "execution_count": 15,
     "metadata": {},
     "output_type": "execute_result"
    }
   ],
   "source": [
    "def findErrorNums(nums):\n",
    "    N, dupe = len(nums), 0\n",
    "    seen, sumN = [0] * (N+1), N * (N+1) // 2\n",
    "    for num in nums:\n",
    "        sumN -= num\n",
    "        if seen[num]: \n",
    "            dupe = num\n",
    "        seen[num] += 1\n",
    "    return [dupe, sumN + dupe]\n",
    "\n",
    "findErrorNums([1,2,2,4])"
   ]
  }
 ],
 "metadata": {
  "kernelspec": {
   "display_name": "base",
   "language": "python",
   "name": "python3"
  },
  "language_info": {
   "codemirror_mode": {
    "name": "ipython",
    "version": 3
   },
   "file_extension": ".py",
   "mimetype": "text/x-python",
   "name": "python",
   "nbconvert_exporter": "python",
   "pygments_lexer": "ipython3",
   "version": "3.9.13"
  },
  "orig_nbformat": 4
 },
 "nbformat": 4,
 "nbformat_minor": 2
}
