{
 "cells": [
  {
   "attachments": {},
   "cell_type": "markdown",
   "metadata": {},
   "source": [
    "**Question 1**\n",
    "\n",
    "Given an integer `n`, return *`true` if it is a power of three. Otherwise, return `false`*.\n",
    "\n",
    "An integer `n` is a power of three, if there exists an integer `x` such that `n == 3x`.\n",
    "\n",
    "**Example 1:**\n",
    "Input: n = 27\n",
    "Output: true\n",
    "Explanation: 27 = 33\n",
    "\n",
    "Input: n = 0\n",
    "Output: false\n",
    "Explanation: There is no x where 3x = 0.\n",
    "\n",
    "Input: n = -1\n",
    "Output: false\n",
    "Explanation: There is no x where 3x = (-1).\n"
   ]
  },
  {
   "cell_type": "code",
   "execution_count": 1,
   "metadata": {},
   "outputs": [
    {
     "data": {
      "text/plain": [
       "True"
      ]
     },
     "execution_count": 1,
     "metadata": {},
     "output_type": "execute_result"
    }
   ],
   "source": [
    "def isPowerOfThree(n):\n",
    "    if n <= 0:\n",
    "        return False\n",
    "    elif n == 1:\n",
    "        return True\n",
    "\n",
    "    elif n % 3 == 0:\n",
    "        return isPowerOfThree(n//3) \n",
    "\n",
    "    return False\n",
    "\n",
    "\n",
    "# Drivercode\n",
    "\n",
    "n = 27\n",
    "isPowerOfThree(n)"
   ]
  },
  {
   "attachments": {},
   "cell_type": "markdown",
   "metadata": {},
   "source": [
    "**Question 2**\n",
    "\n",
    "You have a list `arr` of all integers in the range `[1, n]` sorted in a strictly increasing order. Apply the following algorithm on `arr`:\n",
    "\n",
    "- Starting from left to right, remove the first number and every other number afterward until you reach the end of the list.\n",
    "- Repeat the previous step again, but this time from right to left, remove the rightmost number and every other number from the remaining numbers.\n",
    "- Keep repeating the steps again, alternating left to right and right to left, until a single number remains.\n",
    "\n",
    "Given the integer `n`, return *the last number that remains in* `arr`.\n",
    "\n",
    "**Example 1:**\n",
    "\n",
    "Input: n = 9\n",
    "Output: 6\n",
    "Explanation:\n",
    "arr = [1, 2,3, 4,5, 6,7, 8,9]\n",
    "arr = [2,4, 6,8]\n",
    "arr = [2, 6]\n",
    "arr = [6]\n",
    "\n",
    "**example 2:**\n",
    "Input: n = 1\n",
    "Output: 1\n",
    "\n",
    "\n",
    "Approach\n",
    "1. Initialize variables:\n",
    "\n",
    "- eft as True to indicate that we start with left-to-right elimination\n",
    "- remaining as n to keep track of the remaining numbers\n",
    "- step as 1 to keep track of the step size\n",
    "- head as 1 to keep track of the head of the remaining numbers\n",
    "\n",
    "2. Loop while remaining is greater than 1:\n",
    "    - If we're going from left to right or from right to left with an odd number of remaining elements, or from right to left with an even number of remaining elements, then we need to update the head by adding the current step size to it.\n",
    "    - Double the step size.\n",
    "    - Divide the remaining elements by 2 to discard the removed numbers.\n",
    "    - Flip the left flag to alternate between left-to-right and right-to-left elimination.\n",
    "\n",
    "3. Return the head of the remaining numbers."
   ]
  },
  {
   "cell_type": "code",
   "execution_count": 5,
   "metadata": {},
   "outputs": [
    {
     "data": {
      "text/plain": [
       "1"
      ]
     },
     "execution_count": 5,
     "metadata": {},
     "output_type": "execute_result"
    }
   ],
   "source": [
    "def lastRemaining(n):\n",
    "\n",
    "    left = True  # flag to keep track of left-to-right or right-to-left elimination\n",
    "    remaining = n  # keep track of the remaining numbers\n",
    "    step = 1  # keep track of the step size\n",
    "    head = 1  # keep track of the head of the remaining numbers\n",
    "    while remaining > 1:\n",
    "        # if we're going from left to right or from right to left with an odd number of remaining elements\n",
    "        # or from right to left with an even number of remaining elements, then we need to update the head\n",
    "        if left or remaining % 2 == 1:\n",
    "            head += step\n",
    "        step *= 2  # double the step size\n",
    "        remaining //= 2  # divide the remaining elements by 2\n",
    "        left = not left  # flip the flag\n",
    "\n",
    "    return head\n",
    "\n",
    "# Drivercode\n",
    "\n",
    "n = 1\n",
    "lastRemaining(n)\n",
    "\n",
    "# tc = O(log n)\n",
    "# sc = O(1)"
   ]
  },
  {
   "cell_type": "code",
   "execution_count": 6,
   "metadata": {},
   "outputs": [
    {
     "data": {
      "text/plain": [
       "6"
      ]
     },
     "execution_count": 6,
     "metadata": {},
     "output_type": "execute_result"
    }
   ],
   "source": [
    "# there is array 1, 2, …, n, after first delete from left, we get subarray 2, 4, …. Then we delete from right, it is similar as we delete the array 1, 2, …, n / 2 from right, f(n/2, right), but number value of array should be 2 * f(n/2, right). So we get another equation: f(n, left) = 2 * f(n/2, right), also f(n, right) = 2 * f(n/2, left).\n",
    "# the general equation f(n, left) = n + 1 -f(n, right) = n + 1 – 2 * f(n/2, left). As first time n may be odd, so we use n / 2 to eliminate the ambiguity((n+1) / 2 == n/2). So f(n, left) = 2 * (n / 2 + 1-f(n/2, left)).\n",
    "\n",
    "def lastremaining(n):\n",
    "    if n == 1:\n",
    "        return 1\n",
    "    return 2 * (1 + (n//2) - lastremaining(n//2))\n",
    "\n",
    "lastremaining(9)\n",
    "\n",
    "\n",
    "# tc = O(log n)\n",
    "# sc = O(1)"
   ]
  },
  {
   "attachments": {},
   "cell_type": "markdown",
   "metadata": {},
   "source": [
    "**Question 3**\n",
    "Given a set represented as a string, write a recursive code to print all subsets of it. The subsets can be printed in any order.\n",
    "\n",
    "**Example 1:**\n",
    "\n",
    "Input :  set = “abc”\n",
    "\n",
    "Output : { “”, “a”, “b”, “c”, “ab”, “ac”, “bc”, “abc”}\n",
    "\n",
    "**Example 2:**\n",
    "\n",
    "Input : set = “abcd”\n",
    "\n",
    "Output : { “”, “a” ,”ab” ,”abc” ,”abcd”, “abd” ,”ac” ,”acd”, “ad” ,”b”, “bc” ,”bcd” ,”bd” ,”c” ,”cd” ,”d” }"
   ]
  },
  {
   "cell_type": "code",
   "execution_count": 13,
   "metadata": {},
   "outputs": [
    {
     "name": "stdout",
     "output_type": "stream",
     "text": [
      "abcd abc abd ab acd ac ad a bcd bc bd b cd c d  "
     ]
    }
   ],
   "source": [
    "def powerSet(s, index, curr):\n",
    "    if index == len(s):\n",
    "        print(curr, end=\" \")\n",
    "        return\n",
    " \n",
    "    powerSet(s, index + 1,curr + s[index])\n",
    "    powerSet(s, index + 1, curr)\n",
    "\n",
    "\n",
    "# Drivercode\n",
    "\n",
    "s = \"abcd\"  #input sttring\n",
    "index = 0 #Index in current subset, curr\n",
    "curr = \"\"   #current subset\n",
    "powerSet(s,index, curr)\n",
    "\n",
    "# tc = O(2n)\n",
    "# sc = O(n), For recursive call stack"
   ]
  },
  {
   "attachments": {},
   "cell_type": "markdown",
   "metadata": {},
   "source": [
    "**Question 4**\n",
    "\n",
    "Given a string calculate length of the string using recursion.\n",
    "\n",
    "**Examples:**\n",
    "\n",
    "Input : str = \"abcd\"\n",
    "Output :4\n",
    "\n",
    "Input : str = \"GEEKSFORGEEKS\"\n",
    "Output :13"
   ]
  },
  {
   "cell_type": "code",
   "execution_count": 18,
   "metadata": {},
   "outputs": [
    {
     "data": {
      "text/plain": [
       "12"
      ]
     },
     "execution_count": 18,
     "metadata": {},
     "output_type": "execute_result"
    }
   ],
   "source": [
    "def length_if_str(s):\n",
    "    if s == \"\":\n",
    "        return 0\n",
    "    return 1 + length_if_str(s[1:])\n",
    "\n",
    "# Drivercode\n",
    "\n",
    "s = \"getanynumber\"\n",
    "length_if_str(s)\n",
    "\n",
    "# tc = sc = O(1)"
   ]
  },
  {
   "attachments": {},
   "cell_type": "markdown",
   "metadata": {},
   "source": [
    "**Question 5**\n",
    "\n",
    "We are given a string S, we need to find count of all contiguous substrings starting and ending with same character.\n",
    "\n",
    "**Examples :**\n",
    "\n",
    "Input  : S = \"abcab\"\n",
    "Output : 7\n",
    "There are 15 substrings of \"abcab\"\n",
    "a, ab, abc, abca, abcab, b, bc, bca\n",
    "bcab, c, ca, cab, a, ab, b\n",
    "Out of the above substrings, there\n",
    "are 7 substrings : a, abca, b, bcab,\n",
    "c, a and b.\n",
    "\n",
    "Input  : S = \"aba\"\n",
    "Output : 4\n",
    "The substrings are a, b, a and aba\n",
    "\n",
    "**Approach**\n",
    "in string abcab, frequency of ‘a’ is 2, and substrings contributing to answering are a, abca and a respectively, a total of 3, which is calculated by (frequency of ‘a’+1)C2. "
   ]
  },
  {
   "cell_type": "code",
   "execution_count": 21,
   "metadata": {},
   "outputs": [
    {
     "data": {
      "text/plain": [
       "4"
      ]
     },
     "execution_count": 21,
     "metadata": {},
     "output_type": "execute_result"
    }
   ],
   "source": [
    "MAX_CHAR = 26 # assuming lower case only\n",
    " \n",
    "def countSubstringWithEqualEnds(s):\n",
    "    result = 0\n",
    "    n = len(s)\n",
    "    s = s.lower()\n",
    " \n",
    "    # Calculating frequency of each character\n",
    "    # in the string.\n",
    "    count = [0]*MAX_CHAR\n",
    "    for i in range(n):\n",
    "        count[ord(s[i])-ord('a')]+=1\n",
    " \n",
    "    # Computing result using counts\n",
    "    for i in range(MAX_CHAR):\n",
    "        result += (count[i]*(count[i]+1)//2)\n",
    " \n",
    "    return result\n",
    " \n",
    "# Driver code\n",
    "# s = \"abcab\"\n",
    "s = \"aba\"\n",
    "countSubstringWithEqualEnds(s)"
   ]
  },
  {
   "attachments": {},
   "cell_type": "markdown",
   "metadata": {},
   "source": [
    "**Question 6**\n",
    "\n",
    "The [tower of Hanoi](https://en.wikipedia.org/wiki/Tower_of_Hanoi) is a famous puzzle where we have three rods and **N** disks. The objective of the puzzle is to move the entire stack to another rod. You are given the number of discs **N**. Initially, these discs are in the rod 1. You need to print all the steps of discs movement so that all the discs reach the 3rd rod. Also, you need to find the total moves.**Note:** The discs are arranged such that the **top disc is numbered 1** and the **bottom-most disc is numbered N**. Also, all the discs have **different sizes** and a bigger disc **cannot** be put on the top of a smaller disc. Refer the provided link to get a better clarity about the puzzle.\n",
    "\n",
    "**Example 1:**\n",
    "\n",
    "Input:\n",
    "N = 2\n",
    "Output:\n",
    "move disk 1 from rod 1 to rod 2\n",
    "move disk 2 from rod 1 to rod 3\n",
    "move disk 1 from rod 2 to rod 3\n",
    "3\n",
    "Explanation:For N=2 , steps will be\n",
    "as follows in the example and total\n",
    "3 steps will be taken.\n",
    "\n",
    "**Example 2:**\n",
    "\n",
    "Input:\n",
    "N = 3\n",
    "Output:\n",
    "move disk 1 from rod 1 to rod 3\n",
    "move disk 2 from rod 1 to rod 2\n",
    "move disk 1 from rod 3 to rod 2\n",
    "move disk 3 from rod 1 to rod 3\n",
    "move disk 1 from rod 2 to rod 1\n",
    "move disk 2 from rod 2 to rod 3\n",
    "move disk 1 from rod 1 to rod 3\n",
    "7\n",
    "Explanation:For N=3 , steps will be\n",
    "as follows in the example and total\n",
    "7 steps will be taken.\n",
    "\n",
    "\n",
    "**Approach:**\n",
    "1. Create a function towerOfHanoi where pass the N (current number of disk), from_rod, to_rod, aux_rod.\n",
    "2. Make a function call for N – 1 th disk.\n",
    "3. Then print the current the disk along with from_rod and to_rod\n",
    "4. Again make a function call for N – 1 th disk."
   ]
  },
  {
   "cell_type": "code",
   "execution_count": 27,
   "metadata": {},
   "outputs": [
    {
     "name": "stdout",
     "output_type": "stream",
     "text": [
      "Move disk 1 from  rod_1 to  rod_3\n",
      "Move disk 2 from  rod_1 to  rod_2\n",
      "Move disk 1 from  rod_3 to  rod_2\n",
      "Move disk 3 from  rod_1 to  rod_3\n",
      "Move disk 1 from  rod_2 to  rod_1\n",
      "Move disk 2 from  rod_2 to  rod_3\n",
      "Move disk 1 from  rod_1 to  rod_3\n"
     ]
    }
   ],
   "source": [
    "def TowerOfHanoi(n, from_rod, to_rod, aux_rod):\n",
    "    if n == 0:\n",
    "        return\n",
    "    TowerOfHanoi(n-1, from_rod, aux_rod, to_rod)\n",
    "    print(\"Move disk\", n, \"from \", from_rod, \"to \", to_rod)\n",
    "    TowerOfHanoi(n-1, aux_rod, to_rod, from_rod)\n",
    "\n",
    "\n",
    "# Drivercode\n",
    "\n",
    "n = 3\n",
    "rod_1 = \"rod_1\"\n",
    "rod_2 = \"rod_2\"\n",
    "rod_3 = \"rod_3\"\n",
    "TowerOfHanoi(n,rod_1,rod_3, rod_2)"
   ]
  },
  {
   "attachments": {},
   "cell_type": "markdown",
   "metadata": {},
   "source": [
    "**Question 7**\n",
    "\n",
    "Given a string **str**, the task is to print all the permutations of **str**. A **permutation** is an arrangement of all or part of a set of objects, with regard to the order of the arrangement. For instance, the words ‘bat’ and ‘tab’ represents two distinct permutation (or arrangements) of a similar three letter word.\n",
    "\n",
    "**Examples:**\n",
    "\n",
    "> Input: str = “cd”\n",
    "> \n",
    "> \n",
    "> **Output:** cd dc\n",
    "> \n",
    "> **Input:** str = “abb”\n",
    "> \n",
    "> **Output:** abb abb bab bba bab bba\n",
    "> \n"
   ]
  },
  {
   "cell_type": "code",
   "execution_count": 30,
   "metadata": {},
   "outputs": [
    {
     "name": "stdout",
     "output_type": "stream",
     "text": [
      "ABCD ABDC ACBD ACDB ADCB ADBC BACD BADC BCAD BCDA BDCA BDAC CBAD CBDA CABD CADB CDAB CDBA DBCA DBAC DCBA DCAB DACB DABC "
     ]
    }
   ],
   "source": [
    "def toString(lst):\n",
    "    return \"\".join(lst)\n",
    "\n",
    "def permute(a, l, r):\n",
    "    if l == r:\n",
    "        print(toString(a),end=\" \")\n",
    "    else:\n",
    "        for i in range(l, r):\n",
    "            a[l], a[i] = a[i], a[l]\n",
    "            permute(a, l+1, r)\n",
    "            a[l], a[i] = a[i], a[l]  # backtrack\n",
    " \n",
    "# Driver code\n",
    "string = \"ABCD\"\n",
    "n = len(string)\n",
    "a = list(string)\n",
    " \n",
    "# Function call\n",
    "permute(a, 0, n)\n"
   ]
  },
  {
   "attachments": {},
   "cell_type": "markdown",
   "metadata": {},
   "source": [
    "**Question 8**\n",
    "\n",
    "Given a string, count total number of consonants in it. A consonant is an English alphabet character that is not vowel (a, e, i, o and u). Examples of constants are b, c, d, f, and g.\n",
    "\n",
    "**Examples :**\n",
    "\n",
    "Input : abc de\n",
    "Output : 3\n",
    "There are three consonants b, c and d.\n",
    "\n",
    "Input : geeksforgeeks portal\n",
    "Output : 12"
   ]
  },
  {
   "cell_type": "code",
   "execution_count": 41,
   "metadata": {},
   "outputs": [
    {
     "data": {
      "text/plain": [
       "8"
      ]
     },
     "execution_count": 41,
     "metadata": {},
     "output_type": "execute_result"
    }
   ],
   "source": [
    "def isConsonants(ch):\n",
    "    ch = ch.lower()\n",
    "    vowel = [\"a\",\"e\",\"i\",\"o\",\"u\"]\n",
    "    return ch not in vowel and ord(ch) >= 97 and ord(ch) <= 122\n",
    "    \n",
    "def totalConsonants(s, n):\n",
    "    if n == 1:\n",
    "        return int(isConsonants(s[0]))\n",
    "    \n",
    "    return totalConsonants(s, n-1) + isConsonants(s[n-1])\n",
    "    \n",
    "\n",
    "s = \"abbc ddfffe\"\n",
    "totalConsonants(s,len(s))"
   ]
  }
 ],
 "metadata": {
  "kernelspec": {
   "display_name": "base",
   "language": "python",
   "name": "python3"
  },
  "language_info": {
   "codemirror_mode": {
    "name": "ipython",
    "version": 3
   },
   "file_extension": ".py",
   "mimetype": "text/x-python",
   "name": "python",
   "nbconvert_exporter": "python",
   "pygments_lexer": "ipython3",
   "version": "3.9.13"
  },
  "orig_nbformat": 4
 },
 "nbformat": 4,
 "nbformat_minor": 2
}
